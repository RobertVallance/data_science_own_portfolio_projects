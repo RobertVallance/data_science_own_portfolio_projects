{
 "cells": [
  {
   "cell_type": "code",
   "execution_count": 1,
   "metadata": {},
   "outputs": [],
   "source": [
    "import numpy as np\n",
    "import pandas as pd\n",
    "import matplotlib.pyplot as plt\n",
    "import seaborn as sns"
   ]
  },
  {
   "cell_type": "code",
   "execution_count": 2,
   "metadata": {},
   "outputs": [],
   "source": [
    "df = pd.read_csv('heart.csv')"
   ]
  },
  {
   "cell_type": "code",
   "execution_count": 3,
   "metadata": {},
   "outputs": [
    {
     "data": {
      "text/html": [
       "<div>\n",
       "<style scoped>\n",
       "    .dataframe tbody tr th:only-of-type {\n",
       "        vertical-align: middle;\n",
       "    }\n",
       "\n",
       "    .dataframe tbody tr th {\n",
       "        vertical-align: top;\n",
       "    }\n",
       "\n",
       "    .dataframe thead th {\n",
       "        text-align: right;\n",
       "    }\n",
       "</style>\n",
       "<table border=\"1\" class=\"dataframe\">\n",
       "  <thead>\n",
       "    <tr style=\"text-align: right;\">\n",
       "      <th></th>\n",
       "      <th>age</th>\n",
       "      <th>sex</th>\n",
       "      <th>cp</th>\n",
       "      <th>trestbps</th>\n",
       "      <th>chol</th>\n",
       "      <th>fbs</th>\n",
       "      <th>restecg</th>\n",
       "      <th>thalach</th>\n",
       "      <th>exang</th>\n",
       "      <th>oldpeak</th>\n",
       "      <th>slope</th>\n",
       "      <th>ca</th>\n",
       "      <th>thal</th>\n",
       "      <th>target</th>\n",
       "    </tr>\n",
       "  </thead>\n",
       "  <tbody>\n",
       "    <tr>\n",
       "      <th>0</th>\n",
       "      <td>63</td>\n",
       "      <td>1</td>\n",
       "      <td>3</td>\n",
       "      <td>145</td>\n",
       "      <td>233</td>\n",
       "      <td>1</td>\n",
       "      <td>0</td>\n",
       "      <td>150</td>\n",
       "      <td>0</td>\n",
       "      <td>2.3</td>\n",
       "      <td>0</td>\n",
       "      <td>0</td>\n",
       "      <td>1</td>\n",
       "      <td>1</td>\n",
       "    </tr>\n",
       "    <tr>\n",
       "      <th>1</th>\n",
       "      <td>37</td>\n",
       "      <td>1</td>\n",
       "      <td>2</td>\n",
       "      <td>130</td>\n",
       "      <td>250</td>\n",
       "      <td>0</td>\n",
       "      <td>1</td>\n",
       "      <td>187</td>\n",
       "      <td>0</td>\n",
       "      <td>3.5</td>\n",
       "      <td>0</td>\n",
       "      <td>0</td>\n",
       "      <td>2</td>\n",
       "      <td>1</td>\n",
       "    </tr>\n",
       "    <tr>\n",
       "      <th>2</th>\n",
       "      <td>41</td>\n",
       "      <td>0</td>\n",
       "      <td>1</td>\n",
       "      <td>130</td>\n",
       "      <td>204</td>\n",
       "      <td>0</td>\n",
       "      <td>0</td>\n",
       "      <td>172</td>\n",
       "      <td>0</td>\n",
       "      <td>1.4</td>\n",
       "      <td>2</td>\n",
       "      <td>0</td>\n",
       "      <td>2</td>\n",
       "      <td>1</td>\n",
       "    </tr>\n",
       "    <tr>\n",
       "      <th>3</th>\n",
       "      <td>56</td>\n",
       "      <td>1</td>\n",
       "      <td>1</td>\n",
       "      <td>120</td>\n",
       "      <td>236</td>\n",
       "      <td>0</td>\n",
       "      <td>1</td>\n",
       "      <td>178</td>\n",
       "      <td>0</td>\n",
       "      <td>0.8</td>\n",
       "      <td>2</td>\n",
       "      <td>0</td>\n",
       "      <td>2</td>\n",
       "      <td>1</td>\n",
       "    </tr>\n",
       "    <tr>\n",
       "      <th>4</th>\n",
       "      <td>57</td>\n",
       "      <td>0</td>\n",
       "      <td>0</td>\n",
       "      <td>120</td>\n",
       "      <td>354</td>\n",
       "      <td>0</td>\n",
       "      <td>1</td>\n",
       "      <td>163</td>\n",
       "      <td>1</td>\n",
       "      <td>0.6</td>\n",
       "      <td>2</td>\n",
       "      <td>0</td>\n",
       "      <td>2</td>\n",
       "      <td>1</td>\n",
       "    </tr>\n",
       "  </tbody>\n",
       "</table>\n",
       "</div>"
      ],
      "text/plain": [
       "   age  sex  cp  trestbps  chol  fbs  restecg  thalach  exang  oldpeak  slope  \\\n",
       "0   63    1   3       145   233    1        0      150      0      2.3      0   \n",
       "1   37    1   2       130   250    0        1      187      0      3.5      0   \n",
       "2   41    0   1       130   204    0        0      172      0      1.4      2   \n",
       "3   56    1   1       120   236    0        1      178      0      0.8      2   \n",
       "4   57    0   0       120   354    0        1      163      1      0.6      2   \n",
       "\n",
       "   ca  thal  target  \n",
       "0   0     1       1  \n",
       "1   0     2       1  \n",
       "2   0     2       1  \n",
       "3   0     2       1  \n",
       "4   0     2       1  "
      ]
     },
     "execution_count": 3,
     "metadata": {},
     "output_type": "execute_result"
    }
   ],
   "source": [
    "df.head()"
   ]
  },
  {
   "cell_type": "code",
   "execution_count": 4,
   "metadata": {},
   "outputs": [
    {
     "data": {
      "text/html": [
       "<div>\n",
       "<style scoped>\n",
       "    .dataframe tbody tr th:only-of-type {\n",
       "        vertical-align: middle;\n",
       "    }\n",
       "\n",
       "    .dataframe tbody tr th {\n",
       "        vertical-align: top;\n",
       "    }\n",
       "\n",
       "    .dataframe thead th {\n",
       "        text-align: right;\n",
       "    }\n",
       "</style>\n",
       "<table border=\"1\" class=\"dataframe\">\n",
       "  <thead>\n",
       "    <tr style=\"text-align: right;\">\n",
       "      <th></th>\n",
       "      <th>age</th>\n",
       "      <th>sex</th>\n",
       "      <th>cp</th>\n",
       "      <th>trestbps</th>\n",
       "      <th>chol</th>\n",
       "      <th>fbs</th>\n",
       "      <th>restecg</th>\n",
       "      <th>thalach</th>\n",
       "      <th>exang</th>\n",
       "      <th>oldpeak</th>\n",
       "      <th>slope</th>\n",
       "      <th>ca</th>\n",
       "      <th>thal</th>\n",
       "      <th>target</th>\n",
       "    </tr>\n",
       "  </thead>\n",
       "  <tbody>\n",
       "    <tr>\n",
       "      <th>0</th>\n",
       "      <td>63</td>\n",
       "      <td>1</td>\n",
       "      <td>3</td>\n",
       "      <td>145</td>\n",
       "      <td>233</td>\n",
       "      <td>1</td>\n",
       "      <td>0</td>\n",
       "      <td>150</td>\n",
       "      <td>0</td>\n",
       "      <td>2.3</td>\n",
       "      <td>0</td>\n",
       "      <td>0</td>\n",
       "      <td>1</td>\n",
       "      <td>0</td>\n",
       "    </tr>\n",
       "    <tr>\n",
       "      <th>1</th>\n",
       "      <td>37</td>\n",
       "      <td>1</td>\n",
       "      <td>2</td>\n",
       "      <td>130</td>\n",
       "      <td>250</td>\n",
       "      <td>0</td>\n",
       "      <td>1</td>\n",
       "      <td>187</td>\n",
       "      <td>0</td>\n",
       "      <td>3.5</td>\n",
       "      <td>0</td>\n",
       "      <td>0</td>\n",
       "      <td>2</td>\n",
       "      <td>0</td>\n",
       "    </tr>\n",
       "    <tr>\n",
       "      <th>2</th>\n",
       "      <td>41</td>\n",
       "      <td>0</td>\n",
       "      <td>1</td>\n",
       "      <td>130</td>\n",
       "      <td>204</td>\n",
       "      <td>0</td>\n",
       "      <td>0</td>\n",
       "      <td>172</td>\n",
       "      <td>0</td>\n",
       "      <td>1.4</td>\n",
       "      <td>2</td>\n",
       "      <td>0</td>\n",
       "      <td>2</td>\n",
       "      <td>0</td>\n",
       "    </tr>\n",
       "    <tr>\n",
       "      <th>3</th>\n",
       "      <td>56</td>\n",
       "      <td>1</td>\n",
       "      <td>1</td>\n",
       "      <td>120</td>\n",
       "      <td>236</td>\n",
       "      <td>0</td>\n",
       "      <td>1</td>\n",
       "      <td>178</td>\n",
       "      <td>0</td>\n",
       "      <td>0.8</td>\n",
       "      <td>2</td>\n",
       "      <td>0</td>\n",
       "      <td>2</td>\n",
       "      <td>0</td>\n",
       "    </tr>\n",
       "    <tr>\n",
       "      <th>4</th>\n",
       "      <td>57</td>\n",
       "      <td>0</td>\n",
       "      <td>0</td>\n",
       "      <td>120</td>\n",
       "      <td>354</td>\n",
       "      <td>0</td>\n",
       "      <td>1</td>\n",
       "      <td>163</td>\n",
       "      <td>1</td>\n",
       "      <td>0.6</td>\n",
       "      <td>2</td>\n",
       "      <td>0</td>\n",
       "      <td>2</td>\n",
       "      <td>0</td>\n",
       "    </tr>\n",
       "  </tbody>\n",
       "</table>\n",
       "</div>"
      ],
      "text/plain": [
       "   age  sex  cp  trestbps  chol  fbs  restecg  thalach  exang  oldpeak  slope  \\\n",
       "0   63    1   3       145   233    1        0      150      0      2.3      0   \n",
       "1   37    1   2       130   250    0        1      187      0      3.5      0   \n",
       "2   41    0   1       130   204    0        0      172      0      1.4      2   \n",
       "3   56    1   1       120   236    0        1      178      0      0.8      2   \n",
       "4   57    0   0       120   354    0        1      163      1      0.6      2   \n",
       "\n",
       "   ca  thal  target  \n",
       "0   0     1       0  \n",
       "1   0     2       0  \n",
       "2   0     2       0  \n",
       "3   0     2       0  \n",
       "4   0     2       0  "
      ]
     },
     "execution_count": 4,
     "metadata": {},
     "output_type": "execute_result"
    }
   ],
   "source": [
    "# Bug in dataset - want target = 1 to be with disease, not 0.  So swap targets\n",
    "df['target'] = df['target'].apply(lambda x: 0 if x == 1 else 1)\n",
    "df.head()"
   ]
  },
  {
   "cell_type": "code",
   "execution_count": 5,
   "metadata": {},
   "outputs": [
    {
     "data": {
      "text/plain": [
       "(303, 14)"
      ]
     },
     "execution_count": 5,
     "metadata": {},
     "output_type": "execute_result"
    }
   ],
   "source": [
    "df.shape"
   ]
  },
  {
   "cell_type": "code",
   "execution_count": 6,
   "metadata": {},
   "outputs": [
    {
     "data": {
      "text/plain": [
       "age         0\n",
       "sex         0\n",
       "cp          0\n",
       "trestbps    0\n",
       "chol        0\n",
       "fbs         0\n",
       "restecg     0\n",
       "thalach     0\n",
       "exang       0\n",
       "oldpeak     0\n",
       "slope       0\n",
       "ca          0\n",
       "thal        0\n",
       "target      0\n",
       "dtype: int64"
      ]
     },
     "execution_count": 6,
     "metadata": {},
     "output_type": "execute_result"
    }
   ],
   "source": [
    "df.isnull().sum()"
   ]
  },
  {
   "cell_type": "markdown",
   "metadata": {},
   "source": [
    "## EDA"
   ]
  },
  {
   "cell_type": "code",
   "execution_count": 7,
   "metadata": {},
   "outputs": [
    {
     "data": {
      "text/plain": [
       "0    165\n",
       "1    138\n",
       "Name: target, dtype: int64"
      ]
     },
     "execution_count": 7,
     "metadata": {},
     "output_type": "execute_result"
    }
   ],
   "source": [
    "df['target'].value_counts()"
   ]
  },
  {
   "cell_type": "code",
   "execution_count": 8,
   "metadata": {},
   "outputs": [
    {
     "data": {
      "text/plain": [
       "<matplotlib.axes._subplots.AxesSubplot at 0x7faec9f26390>"
      ]
     },
     "execution_count": 8,
     "metadata": {},
     "output_type": "execute_result"
    },
    {
     "data": {
      "image/png": "[encoded data removed]",
      "text/plain": [
       "<Figure size 432x288 with 1 Axes>"
      ]
     },
     "metadata": {
      "needs_background": "light"
     },
     "output_type": "display_data"
    }
   ],
   "source": [
    "sns.countplot(x='target', data=df)"
   ]
  },
  {
   "cell_type": "code",
   "execution_count": 9,
   "metadata": {},
   "outputs": [
    {
     "data": {
      "text/plain": [
       "<matplotlib.legend.Legend at 0x7faec9f266d8>"
      ]
     },
     "execution_count": 9,
     "metadata": {},
     "output_type": "execute_result"
    },
    {
     "data": {
      "image/png": "[encoded data removed]",
      "text/plain": [
       "<Figure size 432x288 with 1 Axes>"
      ]
     },
     "metadata": {
      "needs_background": "light"
     },
     "output_type": "display_data"
    }
   ],
   "source": [
    "sns.countplot(x='target', hue='sex', data=df, hue_order=[1,0], palette='coolwarm')\n",
    "plt.legend(title='Sex', labels=['Male', 'Female'])"
   ]
  },
  {
   "cell_type": "code",
   "execution_count": 10,
   "metadata": {},
   "outputs": [
    {
     "data": {
      "text/plain": [
       "<matplotlib.axes._subplots.AxesSubplot at 0x7faec965b7f0>"
      ]
     },
     "execution_count": 10,
     "metadata": {},
     "output_type": "execute_result"
    },
    {
     "data": {
      "image/png": "[encoded data removed]",
      "text/plain": [
       "<Figure size 432x288 with 1 Axes>"
      ]
     },
     "metadata": {
      "needs_background": "light"
     },
     "output_type": "display_data"
    }
   ],
   "source": [
    "sns.countplot(data=df, x='target', hue='ca', palette='viridis')"
   ]
  },
  {
   "cell_type": "code",
   "execution_count": 11,
   "metadata": {},
   "outputs": [
    {
     "name": "stdout",
     "output_type": "stream",
     "text": [
      "   ca  target  proportion\n",
      "0   0       0    0.742857\n",
      "1   0       1    0.257143\n",
      "2   1       1    0.676923\n",
      "3   1       0    0.323077\n",
      "4   2       1    0.815789\n",
      "5   2       0    0.184211\n",
      "6   3       1    0.850000\n",
      "7   3       0    0.150000\n",
      "8   4       0    0.800000\n",
      "9   4       1    0.200000\n"
     ]
    },
    {
     "data": {
      "text/plain": [
       "<seaborn.axisgrid.FacetGrid at 0x7faec96cc3c8>"
      ]
     },
     "execution_count": 11,
     "metadata": {},
     "output_type": "execute_result"
    },
    {
     "data": {
      "image/png": "[encoded data removed]",
      "text/plain": [
       "<Figure size 402.375x360 with 1 Axes>"
      ]
     },
     "metadata": {
      "needs_background": "light"
     },
     "output_type": "display_data"
    }
   ],
   "source": [
    "# redo this so normalise each ca bar by the total number of ca counts\n",
    "ca_norm_data = df.groupby(by='ca')['target'].value_counts(normalize=True).rename('proportion').reset_index()\n",
    "print(ca_norm_data)\n",
    "\n",
    "# NB need to rename as otherwise called target, again, which leads to conflict\n",
    "# NB reset_index converts this back to a df style, with 0-7 as the indices\n",
    "\n",
    "sns.catplot(kind='bar', data=ca_norm_data, x='target', y='proportion', hue='ca', palette='viridis')"
   ]
  },
  {
   "cell_type": "code",
   "execution_count": 12,
   "metadata": {},
   "outputs": [
    {
     "data": {
      "text/plain": [
       "<matplotlib.axes._subplots.AxesSubplot at 0x7faec95a7e48>"
      ]
     },
     "execution_count": 12,
     "metadata": {},
     "output_type": "execute_result"
    },
    {
     "data": {
      "image/png": "[encoded data removed]",
      "text/plain": [
       "<Figure size 432x288 with 1 Axes>"
      ]
     },
     "metadata": {
      "needs_background": "light"
     },
     "output_type": "display_data"
    }
   ],
   "source": [
    "sns.boxplot(data=df, x='target', y='chol')"
   ]
  },
  {
   "cell_type": "code",
   "execution_count": 13,
   "metadata": {},
   "outputs": [
    {
     "data": {
      "text/plain": [
       "target\n",
       "0    242.230303\n",
       "1    251.086957\n",
       "Name: chol, dtype: float64"
      ]
     },
     "execution_count": 13,
     "metadata": {},
     "output_type": "execute_result"
    }
   ],
   "source": [
    "# check this a little more\n",
    "df.groupby(by='target')['chol'].mean()"
   ]
  },
  {
   "cell_type": "code",
   "execution_count": 14,
   "metadata": {},
   "outputs": [
    {
     "data": {
      "text/html": [
       "<div>\n",
       "<style scoped>\n",
       "    .dataframe tbody tr th:only-of-type {\n",
       "        vertical-align: middle;\n",
       "    }\n",
       "\n",
       "    .dataframe tbody tr th {\n",
       "        vertical-align: top;\n",
       "    }\n",
       "\n",
       "    .dataframe thead th {\n",
       "        text-align: right;\n",
       "    }\n",
       "</style>\n",
       "<table border=\"1\" class=\"dataframe\">\n",
       "  <thead>\n",
       "    <tr style=\"text-align: right;\">\n",
       "      <th></th>\n",
       "      <th>age</th>\n",
       "      <th>sex</th>\n",
       "      <th>cp</th>\n",
       "      <th>trestbps</th>\n",
       "      <th>chol</th>\n",
       "      <th>fbs</th>\n",
       "      <th>restecg</th>\n",
       "      <th>thalach</th>\n",
       "      <th>exang</th>\n",
       "      <th>oldpeak</th>\n",
       "      <th>slope</th>\n",
       "      <th>ca</th>\n",
       "      <th>thal</th>\n",
       "    </tr>\n",
       "    <tr>\n",
       "      <th>target</th>\n",
       "      <th></th>\n",
       "      <th></th>\n",
       "      <th></th>\n",
       "      <th></th>\n",
       "      <th></th>\n",
       "      <th></th>\n",
       "      <th></th>\n",
       "      <th></th>\n",
       "      <th></th>\n",
       "      <th></th>\n",
       "      <th></th>\n",
       "      <th></th>\n",
       "      <th></th>\n",
       "    </tr>\n",
       "  </thead>\n",
       "  <tbody>\n",
       "    <tr>\n",
       "      <th>0</th>\n",
       "      <td>52.496970</td>\n",
       "      <td>0.563636</td>\n",
       "      <td>1.375758</td>\n",
       "      <td>129.303030</td>\n",
       "      <td>242.230303</td>\n",
       "      <td>0.139394</td>\n",
       "      <td>0.593939</td>\n",
       "      <td>158.466667</td>\n",
       "      <td>0.139394</td>\n",
       "      <td>0.583030</td>\n",
       "      <td>1.593939</td>\n",
       "      <td>0.363636</td>\n",
       "      <td>2.121212</td>\n",
       "    </tr>\n",
       "    <tr>\n",
       "      <th>1</th>\n",
       "      <td>56.601449</td>\n",
       "      <td>0.826087</td>\n",
       "      <td>0.478261</td>\n",
       "      <td>134.398551</td>\n",
       "      <td>251.086957</td>\n",
       "      <td>0.159420</td>\n",
       "      <td>0.449275</td>\n",
       "      <td>139.101449</td>\n",
       "      <td>0.550725</td>\n",
       "      <td>1.585507</td>\n",
       "      <td>1.166667</td>\n",
       "      <td>1.166667</td>\n",
       "      <td>2.543478</td>\n",
       "    </tr>\n",
       "  </tbody>\n",
       "</table>\n",
       "</div>"
      ],
      "text/plain": [
       "              age       sex        cp    trestbps        chol       fbs  \\\n",
       "target                                                                    \n",
       "0       52.496970  0.563636  1.375758  129.303030  242.230303  0.139394   \n",
       "1       56.601449  0.826087  0.478261  134.398551  251.086957  0.159420   \n",
       "\n",
       "         restecg     thalach     exang   oldpeak     slope        ca      thal  \n",
       "target                                                                          \n",
       "0       0.593939  158.466667  0.139394  0.583030  1.593939  0.363636  2.121212  \n",
       "1       0.449275  139.101449  0.550725  1.585507  1.166667  1.166667  2.543478  "
      ]
     },
     "execution_count": 14,
     "metadata": {},
     "output_type": "execute_result"
    }
   ],
   "source": [
    "# check all means grouped by target\n",
    "df.groupby(by='target').mean()"
   ]
  },
  {
   "cell_type": "code",
   "execution_count": 15,
   "metadata": {},
   "outputs": [
    {
     "data": {
      "text/plain": [
       "<matplotlib.legend.Legend at 0x7faec94ef8d0>"
      ]
     },
     "execution_count": 15,
     "metadata": {},
     "output_type": "execute_result"
    },
    {
     "data": {
      "image/png": "[encoded data removed]",
      "text/plain": [
       "<Figure size 864x216 with 4 Axes>"
      ]
     },
     "metadata": {
      "needs_background": "light"
     },
     "output_type": "display_data"
    }
   ],
   "source": [
    "g = sns.FacetGrid(data=df, col='cp')\n",
    "g.map(sns.countplot, 'target', hue=df['sex'], order=[1,0], hue_order=[1,0], palette='coolwarm')\n",
    "plt.legend(title='Sex', labels=['Male', 'Female'], bbox_to_anchor=(0.9, 0.25, 0.9, 0.50))"
   ]
  },
  {
   "cell_type": "code",
   "execution_count": 16,
   "metadata": {},
   "outputs": [
    {
     "data": {
      "text/plain": [
       "<matplotlib.axes._subplots.AxesSubplot at 0x7faec93a95c0>"
      ]
     },
     "execution_count": 16,
     "metadata": {},
     "output_type": "execute_result"
    },
    {
     "data": {
      "image/png": "[encoded data removed]",
      "text/plain": [
       "<Figure size 432x288 with 1 Axes>"
      ]
     },
     "metadata": {
      "needs_background": "light"
     },
     "output_type": "display_data"
    }
   ],
   "source": [
    "sns.scatterplot(x='chol', y='oldpeak', data=df)"
   ]
  },
  {
   "cell_type": "code",
   "execution_count": 17,
   "metadata": {},
   "outputs": [
    {
     "data": {
      "text/plain": [
       "Text(0, 0.5, 'Correlation with Target')"
      ]
     },
     "execution_count": 17,
     "metadata": {},
     "output_type": "execute_result"
    },
    {
     "data": {
      "image/png": "[encoded data removed]",
      "text/plain": [
       "<Figure size 432x288 with 1 Axes>"
      ]
     },
     "metadata": {
      "needs_background": "light"
     },
     "output_type": "display_data"
    }
   ],
   "source": [
    "target_corr = df.corr()['target'].sort_values()[:-1].plot(kind='bar')\n",
    "plt.xlabel(\"Feature\")\n",
    "plt.ylabel(\"Correlation with Target\")"
   ]
  },
  {
   "cell_type": "code",
   "execution_count": 18,
   "metadata": {},
   "outputs": [],
   "source": [
    "# Check which vars need one hot encoding"
   ]
  },
  {
   "cell_type": "code",
   "execution_count": 19,
   "metadata": {},
   "outputs": [
    {
     "data": {
      "text/html": [
       "<div>\n",
       "<style scoped>\n",
       "    .dataframe tbody tr th:only-of-type {\n",
       "        vertical-align: middle;\n",
       "    }\n",
       "\n",
       "    .dataframe tbody tr th {\n",
       "        vertical-align: top;\n",
       "    }\n",
       "\n",
       "    .dataframe thead th {\n",
       "        text-align: right;\n",
       "    }\n",
       "</style>\n",
       "<table border=\"1\" class=\"dataframe\">\n",
       "  <thead>\n",
       "    <tr style=\"text-align: right;\">\n",
       "      <th></th>\n",
       "      <th>age</th>\n",
       "      <th>sex</th>\n",
       "      <th>cp</th>\n",
       "      <th>trestbps</th>\n",
       "      <th>chol</th>\n",
       "      <th>fbs</th>\n",
       "      <th>restecg</th>\n",
       "      <th>thalach</th>\n",
       "      <th>exang</th>\n",
       "      <th>oldpeak</th>\n",
       "      <th>slope</th>\n",
       "      <th>ca</th>\n",
       "      <th>thal</th>\n",
       "      <th>target</th>\n",
       "    </tr>\n",
       "  </thead>\n",
       "  <tbody>\n",
       "    <tr>\n",
       "      <th>0</th>\n",
       "      <td>63</td>\n",
       "      <td>1</td>\n",
       "      <td>3</td>\n",
       "      <td>145</td>\n",
       "      <td>233</td>\n",
       "      <td>1</td>\n",
       "      <td>0</td>\n",
       "      <td>150</td>\n",
       "      <td>0</td>\n",
       "      <td>2.3</td>\n",
       "      <td>0</td>\n",
       "      <td>0</td>\n",
       "      <td>1</td>\n",
       "      <td>0</td>\n",
       "    </tr>\n",
       "    <tr>\n",
       "      <th>1</th>\n",
       "      <td>37</td>\n",
       "      <td>1</td>\n",
       "      <td>2</td>\n",
       "      <td>130</td>\n",
       "      <td>250</td>\n",
       "      <td>0</td>\n",
       "      <td>1</td>\n",
       "      <td>187</td>\n",
       "      <td>0</td>\n",
       "      <td>3.5</td>\n",
       "      <td>0</td>\n",
       "      <td>0</td>\n",
       "      <td>2</td>\n",
       "      <td>0</td>\n",
       "    </tr>\n",
       "    <tr>\n",
       "      <th>2</th>\n",
       "      <td>41</td>\n",
       "      <td>0</td>\n",
       "      <td>1</td>\n",
       "      <td>130</td>\n",
       "      <td>204</td>\n",
       "      <td>0</td>\n",
       "      <td>0</td>\n",
       "      <td>172</td>\n",
       "      <td>0</td>\n",
       "      <td>1.4</td>\n",
       "      <td>2</td>\n",
       "      <td>0</td>\n",
       "      <td>2</td>\n",
       "      <td>0</td>\n",
       "    </tr>\n",
       "    <tr>\n",
       "      <th>3</th>\n",
       "      <td>56</td>\n",
       "      <td>1</td>\n",
       "      <td>1</td>\n",
       "      <td>120</td>\n",
       "      <td>236</td>\n",
       "      <td>0</td>\n",
       "      <td>1</td>\n",
       "      <td>178</td>\n",
       "      <td>0</td>\n",
       "      <td>0.8</td>\n",
       "      <td>2</td>\n",
       "      <td>0</td>\n",
       "      <td>2</td>\n",
       "      <td>0</td>\n",
       "    </tr>\n",
       "    <tr>\n",
       "      <th>4</th>\n",
       "      <td>57</td>\n",
       "      <td>0</td>\n",
       "      <td>0</td>\n",
       "      <td>120</td>\n",
       "      <td>354</td>\n",
       "      <td>0</td>\n",
       "      <td>1</td>\n",
       "      <td>163</td>\n",
       "      <td>1</td>\n",
       "      <td>0.6</td>\n",
       "      <td>2</td>\n",
       "      <td>0</td>\n",
       "      <td>2</td>\n",
       "      <td>0</td>\n",
       "    </tr>\n",
       "  </tbody>\n",
       "</table>\n",
       "</div>"
      ],
      "text/plain": [
       "   age  sex  cp  trestbps  chol  fbs  restecg  thalach  exang  oldpeak  slope  \\\n",
       "0   63    1   3       145   233    1        0      150      0      2.3      0   \n",
       "1   37    1   2       130   250    0        1      187      0      3.5      0   \n",
       "2   41    0   1       130   204    0        0      172      0      1.4      2   \n",
       "3   56    1   1       120   236    0        1      178      0      0.8      2   \n",
       "4   57    0   0       120   354    0        1      163      1      0.6      2   \n",
       "\n",
       "   ca  thal  target  \n",
       "0   0     1       0  \n",
       "1   0     2       0  \n",
       "2   0     2       0  \n",
       "3   0     2       0  \n",
       "4   0     2       0  "
      ]
     },
     "execution_count": 19,
     "metadata": {},
     "output_type": "execute_result"
    }
   ],
   "source": [
    "df.head()"
   ]
  },
  {
   "cell_type": "code",
   "execution_count": 20,
   "metadata": {},
   "outputs": [
    {
     "data": {
      "text/plain": [
       "0    143\n",
       "2     87\n",
       "1     50\n",
       "3     23\n",
       "Name: cp, dtype: int64"
      ]
     },
     "execution_count": 20,
     "metadata": {},
     "output_type": "execute_result"
    }
   ],
   "source": [
    "df['cp'].value_counts() # need to one hot encode as 4 vals"
   ]
  },
  {
   "cell_type": "code",
   "execution_count": 21,
   "metadata": {},
   "outputs": [
    {
     "data": {
      "text/plain": [
       "0    258\n",
       "1     45\n",
       "Name: fbs, dtype: int64"
      ]
     },
     "execution_count": 21,
     "metadata": {},
     "output_type": "execute_result"
    }
   ],
   "source": [
    "df['fbs'].value_counts() # don't need to one hot"
   ]
  },
  {
   "cell_type": "code",
   "execution_count": 22,
   "metadata": {},
   "outputs": [
    {
     "data": {
      "text/plain": [
       "1    152\n",
       "0    147\n",
       "2      4\n",
       "Name: restecg, dtype: int64"
      ]
     },
     "execution_count": 22,
     "metadata": {},
     "output_type": "execute_result"
    }
   ],
   "source": [
    "df['restecg'].value_counts() # need to one hot as 3 vals"
   ]
  },
  {
   "cell_type": "code",
   "execution_count": 23,
   "metadata": {},
   "outputs": [
    {
     "data": {
      "text/plain": [
       "0    204\n",
       "1     99\n",
       "Name: exang, dtype: int64"
      ]
     },
     "execution_count": 23,
     "metadata": {},
     "output_type": "execute_result"
    }
   ],
   "source": [
    "df['exang'].value_counts() # not needed as already onehot (two vals)"
   ]
  },
  {
   "cell_type": "code",
   "execution_count": 24,
   "metadata": {},
   "outputs": [
    {
     "data": {
      "text/plain": [
       "2    142\n",
       "1    140\n",
       "0     21\n",
       "Name: slope, dtype: int64"
      ]
     },
     "execution_count": 24,
     "metadata": {},
     "output_type": "execute_result"
    }
   ],
   "source": [
    "df['slope'].value_counts() # need to one hot as 3 vals"
   ]
  },
  {
   "cell_type": "code",
   "execution_count": 25,
   "metadata": {},
   "outputs": [
    {
     "data": {
      "text/plain": [
       "0    175\n",
       "1     65\n",
       "2     38\n",
       "3     20\n",
       "4      5\n",
       "Name: ca, dtype: int64"
      ]
     },
     "execution_count": 25,
     "metadata": {},
     "output_type": "execute_result"
    }
   ],
   "source": [
    "df['ca'].value_counts() # need to one hot as 5 vals"
   ]
  },
  {
   "cell_type": "code",
   "execution_count": 26,
   "metadata": {},
   "outputs": [
    {
     "data": {
      "text/plain": [
       "2    166\n",
       "3    117\n",
       "1     18\n",
       "0      2\n",
       "Name: thal, dtype: int64"
      ]
     },
     "execution_count": 26,
     "metadata": {},
     "output_type": "execute_result"
    }
   ],
   "source": [
    "df['thal'].value_counts() # need to one hot as 4 vals"
   ]
  },
  {
   "cell_type": "code",
   "execution_count": 27,
   "metadata": {},
   "outputs": [],
   "source": [
    "final_df = pd.get_dummies(data=df, columns=['cp', 'restecg', 'exang', 'slope', 'ca', 'thal'], drop_first=True)"
   ]
  },
  {
   "cell_type": "code",
   "execution_count": 28,
   "metadata": {},
   "outputs": [],
   "source": [
    "#final_df = pd.concat([df.drop(columns=['cp', 'restecg', 'exang', 'slope', 'ca', 'thal']), one_hot], axis=1)"
   ]
  },
  {
   "cell_type": "code",
   "execution_count": 29,
   "metadata": {},
   "outputs": [
    {
     "data": {
      "text/html": [
       "<div>\n",
       "<style scoped>\n",
       "    .dataframe tbody tr th:only-of-type {\n",
       "        vertical-align: middle;\n",
       "    }\n",
       "\n",
       "    .dataframe tbody tr th {\n",
       "        vertical-align: top;\n",
       "    }\n",
       "\n",
       "    .dataframe thead th {\n",
       "        text-align: right;\n",
       "    }\n",
       "</style>\n",
       "<table border=\"1\" class=\"dataframe\">\n",
       "  <thead>\n",
       "    <tr style=\"text-align: right;\">\n",
       "      <th></th>\n",
       "      <th>age</th>\n",
       "      <th>sex</th>\n",
       "      <th>trestbps</th>\n",
       "      <th>chol</th>\n",
       "      <th>fbs</th>\n",
       "      <th>thalach</th>\n",
       "      <th>oldpeak</th>\n",
       "      <th>target</th>\n",
       "      <th>cp_1</th>\n",
       "      <th>cp_2</th>\n",
       "      <th>...</th>\n",
       "      <th>exang_1</th>\n",
       "      <th>slope_1</th>\n",
       "      <th>slope_2</th>\n",
       "      <th>ca_1</th>\n",
       "      <th>ca_2</th>\n",
       "      <th>ca_3</th>\n",
       "      <th>ca_4</th>\n",
       "      <th>thal_1</th>\n",
       "      <th>thal_2</th>\n",
       "      <th>thal_3</th>\n",
       "    </tr>\n",
       "  </thead>\n",
       "  <tbody>\n",
       "    <tr>\n",
       "      <th>0</th>\n",
       "      <td>63</td>\n",
       "      <td>1</td>\n",
       "      <td>145</td>\n",
       "      <td>233</td>\n",
       "      <td>1</td>\n",
       "      <td>150</td>\n",
       "      <td>2.3</td>\n",
       "      <td>0</td>\n",
       "      <td>0</td>\n",
       "      <td>0</td>\n",
       "      <td>...</td>\n",
       "      <td>0</td>\n",
       "      <td>0</td>\n",
       "      <td>0</td>\n",
       "      <td>0</td>\n",
       "      <td>0</td>\n",
       "      <td>0</td>\n",
       "      <td>0</td>\n",
       "      <td>1</td>\n",
       "      <td>0</td>\n",
       "      <td>0</td>\n",
       "    </tr>\n",
       "    <tr>\n",
       "      <th>1</th>\n",
       "      <td>37</td>\n",
       "      <td>1</td>\n",
       "      <td>130</td>\n",
       "      <td>250</td>\n",
       "      <td>0</td>\n",
       "      <td>187</td>\n",
       "      <td>3.5</td>\n",
       "      <td>0</td>\n",
       "      <td>0</td>\n",
       "      <td>1</td>\n",
       "      <td>...</td>\n",
       "      <td>0</td>\n",
       "      <td>0</td>\n",
       "      <td>0</td>\n",
       "      <td>0</td>\n",
       "      <td>0</td>\n",
       "      <td>0</td>\n",
       "      <td>0</td>\n",
       "      <td>0</td>\n",
       "      <td>1</td>\n",
       "      <td>0</td>\n",
       "    </tr>\n",
       "    <tr>\n",
       "      <th>2</th>\n",
       "      <td>41</td>\n",
       "      <td>0</td>\n",
       "      <td>130</td>\n",
       "      <td>204</td>\n",
       "      <td>0</td>\n",
       "      <td>172</td>\n",
       "      <td>1.4</td>\n",
       "      <td>0</td>\n",
       "      <td>1</td>\n",
       "      <td>0</td>\n",
       "      <td>...</td>\n",
       "      <td>0</td>\n",
       "      <td>0</td>\n",
       "      <td>1</td>\n",
       "      <td>0</td>\n",
       "      <td>0</td>\n",
       "      <td>0</td>\n",
       "      <td>0</td>\n",
       "      <td>0</td>\n",
       "      <td>1</td>\n",
       "      <td>0</td>\n",
       "    </tr>\n",
       "    <tr>\n",
       "      <th>3</th>\n",
       "      <td>56</td>\n",
       "      <td>1</td>\n",
       "      <td>120</td>\n",
       "      <td>236</td>\n",
       "      <td>0</td>\n",
       "      <td>178</td>\n",
       "      <td>0.8</td>\n",
       "      <td>0</td>\n",
       "      <td>1</td>\n",
       "      <td>0</td>\n",
       "      <td>...</td>\n",
       "      <td>0</td>\n",
       "      <td>0</td>\n",
       "      <td>1</td>\n",
       "      <td>0</td>\n",
       "      <td>0</td>\n",
       "      <td>0</td>\n",
       "      <td>0</td>\n",
       "      <td>0</td>\n",
       "      <td>1</td>\n",
       "      <td>0</td>\n",
       "    </tr>\n",
       "    <tr>\n",
       "      <th>4</th>\n",
       "      <td>57</td>\n",
       "      <td>0</td>\n",
       "      <td>120</td>\n",
       "      <td>354</td>\n",
       "      <td>0</td>\n",
       "      <td>163</td>\n",
       "      <td>0.6</td>\n",
       "      <td>0</td>\n",
       "      <td>0</td>\n",
       "      <td>0</td>\n",
       "      <td>...</td>\n",
       "      <td>1</td>\n",
       "      <td>0</td>\n",
       "      <td>1</td>\n",
       "      <td>0</td>\n",
       "      <td>0</td>\n",
       "      <td>0</td>\n",
       "      <td>0</td>\n",
       "      <td>0</td>\n",
       "      <td>1</td>\n",
       "      <td>0</td>\n",
       "    </tr>\n",
       "  </tbody>\n",
       "</table>\n",
       "<p>5 rows × 23 columns</p>\n",
       "</div>"
      ],
      "text/plain": [
       "   age  sex  trestbps  chol  fbs  thalach  oldpeak  target  cp_1  cp_2  ...  \\\n",
       "0   63    1       145   233    1      150      2.3       0     0     0  ...   \n",
       "1   37    1       130   250    0      187      3.5       0     0     1  ...   \n",
       "2   41    0       130   204    0      172      1.4       0     1     0  ...   \n",
       "3   56    1       120   236    0      178      0.8       0     1     0  ...   \n",
       "4   57    0       120   354    0      163      0.6       0     0     0  ...   \n",
       "\n",
       "   exang_1  slope_1  slope_2  ca_1  ca_2  ca_3  ca_4  thal_1  thal_2  thal_3  \n",
       "0        0        0        0     0     0     0     0       1       0       0  \n",
       "1        0        0        0     0     0     0     0       0       1       0  \n",
       "2        0        0        1     0     0     0     0       0       1       0  \n",
       "3        0        0        1     0     0     0     0       0       1       0  \n",
       "4        1        0        1     0     0     0     0       0       1       0  \n",
       "\n",
       "[5 rows x 23 columns]"
      ]
     },
     "execution_count": 29,
     "metadata": {},
     "output_type": "execute_result"
    }
   ],
   "source": [
    "final_df.head()"
   ]
  },
  {
   "cell_type": "code",
   "execution_count": null,
   "metadata": {},
   "outputs": [],
   "source": []
  },
  {
   "cell_type": "markdown",
   "metadata": {},
   "source": [
    "## Machine Learning"
   ]
  },
  {
   "cell_type": "code",
   "execution_count": 30,
   "metadata": {},
   "outputs": [],
   "source": [
    "from sklearn.model_selection import train_test_split"
   ]
  },
  {
   "cell_type": "code",
   "execution_count": 31,
   "metadata": {},
   "outputs": [],
   "source": [
    "X_train, X_test, y_train, y_test = train_test_split(final_df.drop('target', axis=1), final_df['target'],\n",
    "                                                    test_size = 0.33, random_state=101)"
   ]
  },
  {
   "cell_type": "markdown",
   "metadata": {},
   "source": [
    "### first try logistic regression"
   ]
  },
  {
   "cell_type": "code",
   "execution_count": 32,
   "metadata": {},
   "outputs": [],
   "source": [
    "from sklearn.linear_model import LogisticRegression"
   ]
  },
  {
   "cell_type": "code",
   "execution_count": 33,
   "metadata": {},
   "outputs": [],
   "source": [
    "logistic_reg_model = LogisticRegression()"
   ]
  },
  {
   "cell_type": "code",
   "execution_count": 34,
   "metadata": {},
   "outputs": [
    {
     "name": "stderr",
     "output_type": "stream",
     "text": [
      "/home/robertv/anaconda3/lib/python3.7/site-packages/sklearn/linear_model/logistic.py:432: FutureWarning: Default solver will be changed to 'lbfgs' in 0.22. Specify a solver to silence this warning.\n",
      "  FutureWarning)\n"
     ]
    },
    {
     "data": {
      "text/plain": [
       "LogisticRegression(C=1.0, class_weight=None, dual=False, fit_intercept=True,\n",
       "                   intercept_scaling=1, l1_ratio=None, max_iter=100,\n",
       "                   multi_class='warn', n_jobs=None, penalty='l2',\n",
       "                   random_state=None, solver='warn', tol=0.0001, verbose=0,\n",
       "                   warm_start=False)"
      ]
     },
     "execution_count": 34,
     "metadata": {},
     "output_type": "execute_result"
    }
   ],
   "source": [
    "logistic_reg_model.fit(X_train, y_train)"
   ]
  },
  {
   "cell_type": "code",
   "execution_count": 35,
   "metadata": {},
   "outputs": [],
   "source": [
    "logistic_predictions = logistic_reg_model.predict(X_test)"
   ]
  },
  {
   "cell_type": "code",
   "execution_count": 36,
   "metadata": {},
   "outputs": [
    {
     "name": "stdout",
     "output_type": "stream",
     "text": [
      "88.0\n"
     ]
    }
   ],
   "source": [
    "percent_correct = np.mean(logistic_predictions == y_test)*100\n",
    "print(percent_correct)"
   ]
  },
  {
   "cell_type": "code",
   "execution_count": 37,
   "metadata": {},
   "outputs": [],
   "source": [
    "from sklearn.metrics import classification_report, confusion_matrix"
   ]
  },
  {
   "cell_type": "code",
   "execution_count": 38,
   "metadata": {},
   "outputs": [
    {
     "name": "stdout",
     "output_type": "stream",
     "text": [
      "              precision    recall  f1-score   support\n",
      "\n",
      "           0       0.87      0.90      0.89        52\n",
      "           1       0.89      0.85      0.87        48\n",
      "\n",
      "    accuracy                           0.88       100\n",
      "   macro avg       0.88      0.88      0.88       100\n",
      "weighted avg       0.88      0.88      0.88       100\n",
      "\n",
      "[[47  5]\n",
      " [ 7 41]]\n"
     ]
    }
   ],
   "source": [
    "print(classification_report(y_test, logistic_predictions))\n",
    "print(confusion_matrix(y_test, logistic_predictions))"
   ]
  },
  {
   "cell_type": "markdown",
   "metadata": {},
   "source": [
    "### now try knn"
   ]
  },
  {
   "cell_type": "code",
   "execution_count": 39,
   "metadata": {},
   "outputs": [],
   "source": [
    "# first standardise using standard scaler - NB not for all columns!\n",
    "from sklearn.preprocessing import StandardScaler\n",
    "from sklearn.compose import ColumnTransformer\n",
    "#scaler = StandardScaler()\n",
    "#scaler.fit(X_train)\n",
    "#X_train_scaled = scaler.transform(X_train)\n",
    "#X_test_scaled = scaler.transform(X_test)\n",
    "\n",
    "col_transformer = ColumnTransformer([\n",
    "    ('scaler', StandardScaler(), ['age', 'trestbps', 'chol', 'thalach', 'oldpeak'])\n",
    "], remainder='passthrough')"
   ]
  },
  {
   "cell_type": "code",
   "execution_count": 40,
   "metadata": {},
   "outputs": [],
   "source": [
    "col_transformer.fit(X_train)\n",
    "X_train_scaled = col_transformer.transform(X_train)\n",
    "X_test_scaled  = col_transformer.transform(X_test)"
   ]
  },
  {
   "cell_type": "code",
   "execution_count": 41,
   "metadata": {},
   "outputs": [],
   "source": [
    "from sklearn.neighbors import KNeighborsClassifier"
   ]
  },
  {
   "cell_type": "code",
   "execution_count": 42,
   "metadata": {},
   "outputs": [],
   "source": [
    "error_rate = []\n",
    "\n",
    "for i in range(1,40):\n",
    "    knn_model_i = KNeighborsClassifier(n_neighbors=i)\n",
    "    knn_model_i.fit(X_train_scaled, y_train)\n",
    "    knn_pred_i = knn_model_i.predict(X_test_scaled)\n",
    "    error_rate.append(np.mean(knn_pred_i != y_test))"
   ]
  },
  {
   "cell_type": "code",
   "execution_count": 43,
   "metadata": {},
   "outputs": [
    {
     "data": {
      "text/plain": [
       "Text(0, 0.5, 'Mean error')"
      ]
     },
     "execution_count": 43,
     "metadata": {},
     "output_type": "execute_result"
    },
    {
     "data": {
      "image/png": "[encoded data removed]",
      "text/plain": [
       "<Figure size 720x432 with 1 Axes>"
      ]
     },
     "metadata": {},
     "output_type": "display_data"
    }
   ],
   "source": [
    "plt.style.use('ggplot')\n",
    "plt.figure(figsize=(10,6))\n",
    "plt.plot(range(1,40), error_rate, color='blue', linestyle='-', marker='o')\n",
    "plt.xlabel(\"k\")\n",
    "plt.ylabel(\"Mean error\")"
   ]
  },
  {
   "cell_type": "code",
   "execution_count": 44,
   "metadata": {},
   "outputs": [
    {
     "name": "stdout",
     "output_type": "stream",
     "text": [
      "Fitting 5 folds for each of 39 candidates, totalling 195 fits\n",
      "[CV] knn__n_neighbors=1 ..............................................\n",
      "[CV] .................. knn__n_neighbors=1, score=0.756, total=   0.0s\n",
      "[CV] knn__n_neighbors=1 ..............................................\n",
      "[CV] .................. knn__n_neighbors=1, score=0.707, total=   0.0s\n",
      "[CV] knn__n_neighbors=1 ..............................................\n",
      "[CV] .................. knn__n_neighbors=1, score=0.707, total=   0.0s\n",
      "[CV] knn__n_neighbors=1 ..............................................\n",
      "[CV] .................. knn__n_neighbors=1, score=0.625, total=   0.0s\n",
      "[CV] knn__n_neighbors=1 ..............................................\n",
      "[CV] .................. knn__n_neighbors=1, score=0.625, total=   0.0s\n",
      "[CV] knn__n_neighbors=2 ..............................................\n",
      "[CV] .................. knn__n_neighbors=2, score=0.732, total=   0.0s\n",
      "[CV] knn__n_neighbors=2 ..............................................\n",
      "[CV] .................. knn__n_neighbors=2, score=0.756, total=   0.0s\n",
      "[CV] knn__n_neighbors=2 ..............................................\n",
      "[CV] .................. knn__n_neighbors=2, score=0.756, total=   0.0s\n",
      "[CV] knn__n_neighbors=2 ..............................................\n",
      "[CV] .................. knn__n_neighbors=2, score=0.650, total=   0.0s\n",
      "[CV] knn__n_neighbors=2 ..............................................\n",
      "[CV] .................. knn__n_neighbors=2, score=0.625, total=   0.0s\n",
      "[CV] knn__n_neighbors=3 ..............................................\n",
      "[CV] .................. knn__n_neighbors=3, score=0.829, total=   0.0s\n",
      "[CV] knn__n_neighbors=3 ..............................................\n",
      "[CV] .................. knn__n_neighbors=3, score=0.805, total=   0.0s\n",
      "[CV] knn__n_neighbors=3 ..............................................\n",
      "[CV] .................. knn__n_neighbors=3, score=0.707, total=   0.0s\n",
      "[CV] knn__n_neighbors=3 ..............................................\n",
      "[CV] .................. knn__n_neighbors=3, score=0.700, total=   0.0s\n",
      "[CV] knn__n_neighbors=3 ..............................................\n",
      "[CV] .................. knn__n_neighbors=3, score=0.800, total=   0.0s\n",
      "[CV] knn__n_neighbors=4 ..............................................\n",
      "[CV] .................. knn__n_neighbors=4, score=0.805, total=   0.0s\n",
      "[CV] knn__n_neighbors=4 ..............................................\n",
      "[CV] .................. knn__n_neighbors=4, score=0.805, total=   0.0s\n",
      "[CV] knn__n_neighbors=4 ..............................................\n",
      "[CV] .................. knn__n_neighbors=4, score=0.707, total=   0.0s\n",
      "[CV] knn__n_neighbors=4 ..............................................\n",
      "[CV] .................. knn__n_neighbors=4, score=0.675, total=   0.0s\n",
      "[CV] knn__n_neighbors=4 ..............................................\n",
      "[CV] .................. knn__n_neighbors=4, score=0.750, total=   0.0s\n",
      "[CV] knn__n_neighbors=5 ..............................................\n",
      "[CV] .................. knn__n_neighbors=5, score=0.829, total=   0.0s\n",
      "[CV] knn__n_neighbors=5 ..............................................\n"
     ]
    },
    {
     "name": "stderr",
     "output_type": "stream",
     "text": [
      "[Parallel(n_jobs=1)]: Using backend SequentialBackend with 1 concurrent workers.\n",
      "[Parallel(n_jobs=1)]: Done   1 out of   1 | elapsed:    0.0s remaining:    0.0s\n",
      "[Parallel(n_jobs=1)]: Done   2 out of   2 | elapsed:    0.0s remaining:    0.0s\n"
     ]
    },
    {
     "name": "stdout",
     "output_type": "stream",
     "text": [
      "[CV] .................. knn__n_neighbors=5, score=0.756, total=   0.0s\n",
      "[CV] knn__n_neighbors=5 ..............................................\n",
      "[CV] .................. knn__n_neighbors=5, score=0.780, total=   0.0s\n",
      "[CV] knn__n_neighbors=5 ..............................................\n",
      "[CV] .................. knn__n_neighbors=5, score=0.675, total=   0.0s\n",
      "[CV] knn__n_neighbors=5 ..............................................\n",
      "[CV] .................. knn__n_neighbors=5, score=0.825, total=   0.0s\n",
      "[CV] knn__n_neighbors=6 ..............................................\n",
      "[CV] .................. knn__n_neighbors=6, score=0.829, total=   0.0s\n",
      "[CV] knn__n_neighbors=6 ..............................................\n",
      "[CV] .................. knn__n_neighbors=6, score=0.732, total=   0.0s\n",
      "[CV] knn__n_neighbors=6 ..............................................\n",
      "[CV] .................. knn__n_neighbors=6, score=0.756, total=   0.0s\n",
      "[CV] knn__n_neighbors=6 ..............................................\n",
      "[CV] .................. knn__n_neighbors=6, score=0.725, total=   0.0s\n",
      "[CV] knn__n_neighbors=6 ..............................................\n",
      "[CV] .................. knn__n_neighbors=6, score=0.825, total=   0.0s\n",
      "[CV] knn__n_neighbors=7 ..............................................\n",
      "[CV] .................. knn__n_neighbors=7, score=0.829, total=   0.0s\n",
      "[CV] knn__n_neighbors=7 ..............................................\n",
      "[CV] .................. knn__n_neighbors=7, score=0.780, total=   0.0s\n",
      "[CV] knn__n_neighbors=7 ..............................................\n",
      "[CV] .................. knn__n_neighbors=7, score=0.756, total=   0.0s\n",
      "[CV] knn__n_neighbors=7 ..............................................\n",
      "[CV] .................. knn__n_neighbors=7, score=0.700, total=   0.0s\n",
      "[CV] knn__n_neighbors=7 ..............................................\n",
      "[CV] .................. knn__n_neighbors=7, score=0.775, total=   0.0s\n",
      "[CV] knn__n_neighbors=8 ..............................................\n",
      "[CV] .................. knn__n_neighbors=8, score=0.829, total=   0.0s\n",
      "[CV] knn__n_neighbors=8 ..............................................\n",
      "[CV] .................. knn__n_neighbors=8, score=0.780, total=   0.0s\n",
      "[CV] knn__n_neighbors=8 ..............................................\n",
      "[CV] .................. knn__n_neighbors=8, score=0.756, total=   0.0s\n",
      "[CV] knn__n_neighbors=8 ..............................................\n",
      "[CV] .................. knn__n_neighbors=8, score=0.700, total=   0.0s\n",
      "[CV] knn__n_neighbors=8 ..............................................\n",
      "[CV] .................. knn__n_neighbors=8, score=0.800, total=   0.0s\n",
      "[CV] knn__n_neighbors=9 ..............................................\n",
      "[CV] .................. knn__n_neighbors=9, score=0.805, total=   0.0s\n",
      "[CV] knn__n_neighbors=9 ..............................................\n",
      "[CV] .................. knn__n_neighbors=9, score=0.756, total=   0.0s\n",
      "[CV] knn__n_neighbors=9 ..............................................\n",
      "[CV] .................. knn__n_neighbors=9, score=0.780, total=   0.0s\n",
      "[CV] knn__n_neighbors=9 ..............................................\n",
      "[CV] .................. knn__n_neighbors=9, score=0.675, total=   0.0s\n",
      "[CV] knn__n_neighbors=9 ..............................................\n",
      "[CV] .................. knn__n_neighbors=9, score=0.850, total=   0.0s\n",
      "[CV] knn__n_neighbors=10 .............................................\n",
      "[CV] ................. knn__n_neighbors=10, score=0.780, total=   0.0s\n",
      "[CV] knn__n_neighbors=10 .............................................\n",
      "[CV] ................. knn__n_neighbors=10, score=0.707, total=   0.0s\n",
      "[CV] knn__n_neighbors=10 .............................................\n",
      "[CV] ................. knn__n_neighbors=10, score=0.756, total=   0.0s\n",
      "[CV] knn__n_neighbors=10 .............................................\n",
      "[CV] ................. knn__n_neighbors=10, score=0.700, total=   0.0s\n",
      "[CV] knn__n_neighbors=10 .............................................\n",
      "[CV] ................. knn__n_neighbors=10, score=0.850, total=   0.0s\n",
      "[CV] knn__n_neighbors=11 .............................................\n",
      "[CV] ................. knn__n_neighbors=11, score=0.805, total=   0.0s\n",
      "[CV] knn__n_neighbors=11 .............................................\n",
      "[CV] ................. knn__n_neighbors=11, score=0.756, total=   0.0s\n",
      "[CV] knn__n_neighbors=11 .............................................\n",
      "[CV] ................. knn__n_neighbors=11, score=0.780, total=   0.0s\n",
      "[CV] knn__n_neighbors=11 .............................................\n",
      "[CV] ................. knn__n_neighbors=11, score=0.700, total=   0.0s\n",
      "[CV] knn__n_neighbors=11 .............................................\n",
      "[CV] ................. knn__n_neighbors=11, score=0.850, total=   0.0s\n",
      "[CV] knn__n_neighbors=12 .............................................\n",
      "[CV] ................. knn__n_neighbors=12, score=0.829, total=   0.0s\n",
      "[CV] knn__n_neighbors=12 .............................................\n",
      "[CV] ................. knn__n_neighbors=12, score=0.756, total=   0.0s\n",
      "[CV] knn__n_neighbors=12 .............................................\n",
      "[CV] ................. knn__n_neighbors=12, score=0.732, total=   0.0s\n",
      "[CV] knn__n_neighbors=12 .............................................\n",
      "[CV] ................. knn__n_neighbors=12, score=0.700, total=   0.0s\n",
      "[CV] knn__n_neighbors=12 .............................................\n",
      "[CV] ................. knn__n_neighbors=12, score=0.825, total=   0.0s\n",
      "[CV] knn__n_neighbors=13 .............................................\n",
      "[CV] ................. knn__n_neighbors=13, score=0.829, total=   0.0s\n",
      "[CV] knn__n_neighbors=13 .............................................\n",
      "[CV] ................. knn__n_neighbors=13, score=0.780, total=   0.0s\n",
      "[CV] knn__n_neighbors=13 .............................................\n",
      "[CV] ................. knn__n_neighbors=13, score=0.756, total=   0.0s\n",
      "[CV] knn__n_neighbors=13 .............................................\n",
      "[CV] ................. knn__n_neighbors=13, score=0.700, total=   0.0s\n",
      "[CV] knn__n_neighbors=13 .............................................\n",
      "[CV] ................. knn__n_neighbors=13, score=0.825, total=   0.0s\n",
      "[CV] knn__n_neighbors=14 .............................................\n",
      "[CV] ................. knn__n_neighbors=14, score=0.829, total=   0.0s\n",
      "[CV] knn__n_neighbors=14 .............................................\n",
      "[CV] ................. knn__n_neighbors=14, score=0.756, total=   0.0s\n",
      "[CV] knn__n_neighbors=14 .............................................\n",
      "[CV] ................. knn__n_neighbors=14, score=0.780, total=   0.0s\n",
      "[CV] knn__n_neighbors=14 .............................................\n",
      "[CV] ................. knn__n_neighbors=14, score=0.700, total=   0.0s\n",
      "[CV] knn__n_neighbors=14 .............................................\n",
      "[CV] ................. knn__n_neighbors=14, score=0.800, total=   0.0s\n",
      "[CV] knn__n_neighbors=15 .............................................\n",
      "[CV] ................. knn__n_neighbors=15, score=0.805, total=   0.0s\n",
      "[CV] knn__n_neighbors=15 .............................................\n",
      "[CV] ................. knn__n_neighbors=15, score=0.732, total=   0.0s\n",
      "[CV] knn__n_neighbors=15 .............................................\n",
      "[CV] ................. knn__n_neighbors=15, score=0.756, total=   0.0s\n",
      "[CV] knn__n_neighbors=15 .............................................\n",
      "[CV] ................. knn__n_neighbors=15, score=0.700, total=   0.0s\n",
      "[CV] knn__n_neighbors=15 .............................................\n",
      "[CV] ................. knn__n_neighbors=15, score=0.850, total=   0.0s\n",
      "[CV] knn__n_neighbors=16 .............................................\n",
      "[CV] ................. knn__n_neighbors=16, score=0.780, total=   0.0s\n",
      "[CV] knn__n_neighbors=16 .............................................\n",
      "[CV] ................. knn__n_neighbors=16, score=0.707, total=   0.0s\n",
      "[CV] knn__n_neighbors=16 .............................................\n",
      "[CV] ................. knn__n_neighbors=16, score=0.732, total=   0.0s\n",
      "[CV] knn__n_neighbors=16 .............................................\n",
      "[CV] ................. knn__n_neighbors=16, score=0.700, total=   0.0s\n",
      "[CV] knn__n_neighbors=16 .............................................\n",
      "[CV] ................. knn__n_neighbors=16, score=0.850, total=   0.0s\n",
      "[CV] knn__n_neighbors=17 .............................................\n",
      "[CV] ................. knn__n_neighbors=17, score=0.805, total=   0.0s\n",
      "[CV] knn__n_neighbors=17 .............................................\n",
      "[CV] ................. knn__n_neighbors=17, score=0.732, total=   0.0s\n",
      "[CV] knn__n_neighbors=17 .............................................\n",
      "[CV] ................. knn__n_neighbors=17, score=0.732, total=   0.0s\n",
      "[CV] knn__n_neighbors=17 .............................................\n",
      "[CV] ................. knn__n_neighbors=17, score=0.700, total=   0.0s\n",
      "[CV] knn__n_neighbors=17 .............................................\n",
      "[CV] ................. knn__n_neighbors=17, score=0.875, total=   0.0s\n",
      "[CV] knn__n_neighbors=18 .............................................\n",
      "[CV] ................. knn__n_neighbors=18, score=0.829, total=   0.0s\n",
      "[CV] knn__n_neighbors=18 .............................................\n",
      "[CV] ................. knn__n_neighbors=18, score=0.707, total=   0.0s\n",
      "[CV] knn__n_neighbors=18 .............................................\n"
     ]
    },
    {
     "name": "stdout",
     "output_type": "stream",
     "text": [
      "[CV] ................. knn__n_neighbors=18, score=0.732, total=   0.0s\n",
      "[CV] knn__n_neighbors=18 .............................................\n",
      "[CV] ................. knn__n_neighbors=18, score=0.700, total=   0.0s\n",
      "[CV] knn__n_neighbors=18 .............................................\n",
      "[CV] ................. knn__n_neighbors=18, score=0.875, total=   0.0s\n",
      "[CV] knn__n_neighbors=19 .............................................\n",
      "[CV] ................. knn__n_neighbors=19, score=0.805, total=   0.0s\n",
      "[CV] knn__n_neighbors=19 .............................................\n",
      "[CV] ................. knn__n_neighbors=19, score=0.732, total=   0.0s\n",
      "[CV] knn__n_neighbors=19 .............................................\n",
      "[CV] ................. knn__n_neighbors=19, score=0.732, total=   0.0s\n",
      "[CV] knn__n_neighbors=19 .............................................\n",
      "[CV] ................. knn__n_neighbors=19, score=0.700, total=   0.0s\n",
      "[CV] knn__n_neighbors=19 .............................................\n",
      "[CV] ................. knn__n_neighbors=19, score=0.875, total=   0.0s\n",
      "[CV] knn__n_neighbors=20 .............................................\n",
      "[CV] ................. knn__n_neighbors=20, score=0.829, total=   0.0s\n",
      "[CV] knn__n_neighbors=20 .............................................\n",
      "[CV] ................. knn__n_neighbors=20, score=0.707, total=   0.0s\n",
      "[CV] knn__n_neighbors=20 .............................................\n",
      "[CV] ................. knn__n_neighbors=20, score=0.707, total=   0.0s\n",
      "[CV] knn__n_neighbors=20 .............................................\n",
      "[CV] ................. knn__n_neighbors=20, score=0.675, total=   0.0s\n",
      "[CV] knn__n_neighbors=20 .............................................\n",
      "[CV] ................. knn__n_neighbors=20, score=0.875, total=   0.0s\n",
      "[CV] knn__n_neighbors=21 .............................................\n",
      "[CV] ................. knn__n_neighbors=21, score=0.829, total=   0.0s\n",
      "[CV] knn__n_neighbors=21 .............................................\n",
      "[CV] ................. knn__n_neighbors=21, score=0.732, total=   0.0s\n",
      "[CV] knn__n_neighbors=21 .............................................\n",
      "[CV] ................. knn__n_neighbors=21, score=0.707, total=   0.0s\n",
      "[CV] knn__n_neighbors=21 .............................................\n",
      "[CV] ................. knn__n_neighbors=21, score=0.675, total=   0.0s\n",
      "[CV] knn__n_neighbors=21 .............................................\n",
      "[CV] ................. knn__n_neighbors=21, score=0.875, total=   0.0s\n",
      "[CV] knn__n_neighbors=22 .............................................\n",
      "[CV] ................. knn__n_neighbors=22, score=0.805, total=   0.0s\n",
      "[CV] knn__n_neighbors=22 .............................................\n",
      "[CV] ................. knn__n_neighbors=22, score=0.732, total=   0.0s\n",
      "[CV] knn__n_neighbors=22 .............................................\n",
      "[CV] ................. knn__n_neighbors=22, score=0.683, total=   0.0s\n",
      "[CV] knn__n_neighbors=22 .............................................\n",
      "[CV] ................. knn__n_neighbors=22, score=0.675, total=   0.0s\n",
      "[CV] knn__n_neighbors=22 .............................................\n",
      "[CV] ................. knn__n_neighbors=22, score=0.850, total=   0.0s\n",
      "[CV] knn__n_neighbors=23 .............................................\n",
      "[CV] ................. knn__n_neighbors=23, score=0.805, total=   0.0s\n",
      "[CV] knn__n_neighbors=23 .............................................\n",
      "[CV] ................. knn__n_neighbors=23, score=0.707, total=   0.0s\n",
      "[CV] knn__n_neighbors=23 .............................................\n",
      "[CV] ................. knn__n_neighbors=23, score=0.707, total=   0.0s\n",
      "[CV] knn__n_neighbors=23 .............................................\n",
      "[CV] ................. knn__n_neighbors=23, score=0.725, total=   0.0s\n",
      "[CV] knn__n_neighbors=23 .............................................\n",
      "[CV] ................. knn__n_neighbors=23, score=0.875, total=   0.0s\n",
      "[CV] knn__n_neighbors=24 .............................................\n",
      "[CV] ................. knn__n_neighbors=24, score=0.756, total=   0.0s\n",
      "[CV] knn__n_neighbors=24 .............................................\n",
      "[CV] ................. knn__n_neighbors=24, score=0.707, total=   0.0s\n",
      "[CV] knn__n_neighbors=24 .............................................\n",
      "[CV] ................. knn__n_neighbors=24, score=0.683, total=   0.0s\n",
      "[CV] knn__n_neighbors=24 .............................................\n",
      "[CV] ................. knn__n_neighbors=24, score=0.725, total=   0.0s\n",
      "[CV] knn__n_neighbors=24 .............................................\n",
      "[CV] ................. knn__n_neighbors=24, score=0.875, total=   0.0s\n",
      "[CV] knn__n_neighbors=25 .............................................\n",
      "[CV] ................. knn__n_neighbors=25, score=0.805, total=   0.0s\n",
      "[CV] knn__n_neighbors=25 .............................................\n",
      "[CV] ................. knn__n_neighbors=25, score=0.732, total=   0.0s\n",
      "[CV] knn__n_neighbors=25 .............................................\n",
      "[CV] ................. knn__n_neighbors=25, score=0.707, total=   0.0s\n",
      "[CV] knn__n_neighbors=25 .............................................\n",
      "[CV] ................. knn__n_neighbors=25, score=0.725, total=   0.0s\n",
      "[CV] knn__n_neighbors=25 .............................................\n",
      "[CV] ................. knn__n_neighbors=25, score=0.850, total=   0.0s\n",
      "[CV] knn__n_neighbors=26 .............................................\n",
      "[CV] ................. knn__n_neighbors=26, score=0.805, total=   0.0s\n",
      "[CV] knn__n_neighbors=26 .............................................\n",
      "[CV] ................. knn__n_neighbors=26, score=0.732, total=   0.0s\n",
      "[CV] knn__n_neighbors=26 .............................................\n",
      "[CV] ................. knn__n_neighbors=26, score=0.707, total=   0.0s\n",
      "[CV] knn__n_neighbors=26 .............................................\n",
      "[CV] ................. knn__n_neighbors=26, score=0.725, total=   0.0s\n",
      "[CV] knn__n_neighbors=26 .............................................\n",
      "[CV] ................. knn__n_neighbors=26, score=0.850, total=   0.0s\n",
      "[CV] knn__n_neighbors=27 .............................................\n",
      "[CV] ................. knn__n_neighbors=27, score=0.805, total=   0.0s\n",
      "[CV] knn__n_neighbors=27 .............................................\n",
      "[CV] ................. knn__n_neighbors=27, score=0.732, total=   0.0s\n",
      "[CV] knn__n_neighbors=27 .............................................\n",
      "[CV] ................. knn__n_neighbors=27, score=0.707, total=   0.0s\n",
      "[CV] knn__n_neighbors=27 .............................................\n",
      "[CV] ................. knn__n_neighbors=27, score=0.725, total=   0.0s\n",
      "[CV] knn__n_neighbors=27 .............................................\n",
      "[CV] ................. knn__n_neighbors=27, score=0.875, total=   0.0s\n",
      "[CV] knn__n_neighbors=28 .............................................\n",
      "[CV] ................. knn__n_neighbors=28, score=0.780, total=   0.0s\n",
      "[CV] knn__n_neighbors=28 .............................................\n",
      "[CV] ................. knn__n_neighbors=28, score=0.756, total=   0.0s\n",
      "[CV] knn__n_neighbors=28 .............................................\n",
      "[CV] ................. knn__n_neighbors=28, score=0.707, total=   0.0s\n",
      "[CV] knn__n_neighbors=28 .............................................\n",
      "[CV] ................. knn__n_neighbors=28, score=0.725, total=   0.0s\n",
      "[CV] knn__n_neighbors=28 .............................................\n",
      "[CV] ................. knn__n_neighbors=28, score=0.875, total=   0.0s\n",
      "[CV] knn__n_neighbors=29 .............................................\n",
      "[CV] ................. knn__n_neighbors=29, score=0.805, total=   0.0s\n",
      "[CV] knn__n_neighbors=29 .............................................\n",
      "[CV] ................. knn__n_neighbors=29, score=0.732, total=   0.0s\n",
      "[CV] knn__n_neighbors=29 .............................................\n",
      "[CV] ................. knn__n_neighbors=29, score=0.707, total=   0.0s\n",
      "[CV] knn__n_neighbors=29 .............................................\n",
      "[CV] ................. knn__n_neighbors=29, score=0.725, total=   0.0s\n",
      "[CV] knn__n_neighbors=29 .............................................\n",
      "[CV] ................. knn__n_neighbors=29, score=0.875, total=   0.0s\n",
      "[CV] knn__n_neighbors=30 .............................................\n",
      "[CV] ................. knn__n_neighbors=30, score=0.805, total=   0.0s\n",
      "[CV] knn__n_neighbors=30 .............................................\n",
      "[CV] ................. knn__n_neighbors=30, score=0.780, total=   0.0s\n",
      "[CV] knn__n_neighbors=30 .............................................\n",
      "[CV] ................. knn__n_neighbors=30, score=0.707, total=   0.0s\n",
      "[CV] knn__n_neighbors=30 .............................................\n"
     ]
    },
    {
     "name": "stdout",
     "output_type": "stream",
     "text": [
      "[CV] ................. knn__n_neighbors=30, score=0.725, total=   0.0s\n",
      "[CV] knn__n_neighbors=30 .............................................\n",
      "[CV] ................. knn__n_neighbors=30, score=0.875, total=   0.0s\n",
      "[CV] knn__n_neighbors=31 .............................................\n",
      "[CV] ................. knn__n_neighbors=31, score=0.805, total=   0.0s\n",
      "[CV] knn__n_neighbors=31 .............................................\n",
      "[CV] ................. knn__n_neighbors=31, score=0.756, total=   0.0s\n",
      "[CV] knn__n_neighbors=31 .............................................\n",
      "[CV] ................. knn__n_neighbors=31, score=0.707, total=   0.0s\n",
      "[CV] knn__n_neighbors=31 .............................................\n",
      "[CV] ................. knn__n_neighbors=31, score=0.725, total=   0.0s\n",
      "[CV] knn__n_neighbors=31 .............................................\n",
      "[CV] ................. knn__n_neighbors=31, score=0.875, total=   0.0s\n",
      "[CV] knn__n_neighbors=32 .............................................\n",
      "[CV] ................. knn__n_neighbors=32, score=0.780, total=   0.0s\n",
      "[CV] knn__n_neighbors=32 .............................................\n",
      "[CV] ................. knn__n_neighbors=32, score=0.756, total=   0.0s\n",
      "[CV] knn__n_neighbors=32 .............................................\n",
      "[CV] ................. knn__n_neighbors=32, score=0.707, total=   0.0s\n",
      "[CV] knn__n_neighbors=32 .............................................\n",
      "[CV] ................. knn__n_neighbors=32, score=0.700, total=   0.0s\n",
      "[CV] knn__n_neighbors=32 .............................................\n",
      "[CV] ................. knn__n_neighbors=32, score=0.875, total=   0.0s\n",
      "[CV] knn__n_neighbors=33 .............................................\n",
      "[CV] ................. knn__n_neighbors=33, score=0.780, total=   0.0s\n",
      "[CV] knn__n_neighbors=33 .............................................\n",
      "[CV] ................. knn__n_neighbors=33, score=0.756, total=   0.0s\n",
      "[CV] knn__n_neighbors=33 .............................................\n",
      "[CV] ................. knn__n_neighbors=33, score=0.707, total=   0.0s\n",
      "[CV] knn__n_neighbors=33 .............................................\n",
      "[CV] ................. knn__n_neighbors=33, score=0.725, total=   0.0s\n",
      "[CV] knn__n_neighbors=33 .............................................\n",
      "[CV] ................. knn__n_neighbors=33, score=0.875, total=   0.0s\n",
      "[CV] knn__n_neighbors=34 .............................................\n",
      "[CV] ................. knn__n_neighbors=34, score=0.780, total=   0.0s\n",
      "[CV] knn__n_neighbors=34 .............................................\n",
      "[CV] ................. knn__n_neighbors=34, score=0.756, total=   0.0s\n",
      "[CV] knn__n_neighbors=34 .............................................\n",
      "[CV] ................. knn__n_neighbors=34, score=0.707, total=   0.0s\n",
      "[CV] knn__n_neighbors=34 .............................................\n",
      "[CV] ................. knn__n_neighbors=34, score=0.750, total=   0.0s\n",
      "[CV] knn__n_neighbors=34 .............................................\n",
      "[CV] ................. knn__n_neighbors=34, score=0.850, total=   0.0s\n",
      "[CV] knn__n_neighbors=35 .............................................\n",
      "[CV] ................. knn__n_neighbors=35, score=0.805, total=   0.0s\n",
      "[CV] knn__n_neighbors=35 .............................................\n",
      "[CV] ................. knn__n_neighbors=35, score=0.756, total=   0.0s\n",
      "[CV] knn__n_neighbors=35 .............................................\n",
      "[CV] ................. knn__n_neighbors=35, score=0.707, total=   0.0s\n",
      "[CV] knn__n_neighbors=35 .............................................\n",
      "[CV] ................. knn__n_neighbors=35, score=0.725, total=   0.0s\n",
      "[CV] knn__n_neighbors=35 .............................................\n",
      "[CV] ................. knn__n_neighbors=35, score=0.875, total=   0.0s\n",
      "[CV] knn__n_neighbors=36 .............................................\n",
      "[CV] ................. knn__n_neighbors=36, score=0.805, total=   0.0s\n",
      "[CV] knn__n_neighbors=36 .............................................\n",
      "[CV] ................. knn__n_neighbors=36, score=0.756, total=   0.0s\n",
      "[CV] knn__n_neighbors=36 .............................................\n",
      "[CV] ................. knn__n_neighbors=36, score=0.707, total=   0.0s\n",
      "[CV] knn__n_neighbors=36 .............................................\n",
      "[CV] ................. knn__n_neighbors=36, score=0.725, total=   0.0s\n",
      "[CV] knn__n_neighbors=36 .............................................\n",
      "[CV] ................. knn__n_neighbors=36, score=0.875, total=   0.0s\n",
      "[CV] knn__n_neighbors=37 .............................................\n",
      "[CV] ................. knn__n_neighbors=37, score=0.805, total=   0.0s\n",
      "[CV] knn__n_neighbors=37 .............................................\n",
      "[CV] ................. knn__n_neighbors=37, score=0.756, total=   0.0s\n",
      "[CV] knn__n_neighbors=37 .............................................\n",
      "[CV] ................. knn__n_neighbors=37, score=0.707, total=   0.0s\n",
      "[CV] knn__n_neighbors=37 .............................................\n",
      "[CV] ................. knn__n_neighbors=37, score=0.725, total=   0.0s\n",
      "[CV] knn__n_neighbors=37 .............................................\n",
      "[CV] ................. knn__n_neighbors=37, score=0.875, total=   0.0s\n",
      "[CV] knn__n_neighbors=38 .............................................\n",
      "[CV] ................. knn__n_neighbors=38, score=0.805, total=   0.0s\n",
      "[CV] knn__n_neighbors=38 .............................................\n",
      "[CV] ................. knn__n_neighbors=38, score=0.780, total=   0.0s\n",
      "[CV] knn__n_neighbors=38 .............................................\n",
      "[CV] ................. knn__n_neighbors=38, score=0.707, total=   0.0s\n",
      "[CV] knn__n_neighbors=38 .............................................\n",
      "[CV] ................. knn__n_neighbors=38, score=0.725, total=   0.0s\n",
      "[CV] knn__n_neighbors=38 .............................................\n",
      "[CV] ................. knn__n_neighbors=38, score=0.850, total=   0.0s\n",
      "[CV] knn__n_neighbors=39 .............................................\n",
      "[CV] ................. knn__n_neighbors=39, score=0.805, total=   0.0s\n",
      "[CV] knn__n_neighbors=39 .............................................\n",
      "[CV] ................. knn__n_neighbors=39, score=0.756, total=   0.0s\n",
      "[CV] knn__n_neighbors=39 .............................................\n",
      "[CV] ................. knn__n_neighbors=39, score=0.707, total=   0.0s\n",
      "[CV] knn__n_neighbors=39 .............................................\n",
      "[CV] ................. knn__n_neighbors=39, score=0.700, total=   0.0s\n",
      "[CV] knn__n_neighbors=39 .............................................\n",
      "[CV] ................. knn__n_neighbors=39, score=0.850, total=   0.0s\n"
     ]
    },
    {
     "name": "stderr",
     "output_type": "stream",
     "text": [
      "[Parallel(n_jobs=1)]: Done 195 out of 195 | elapsed:    1.9s finished\n",
      "/home/robertv/anaconda3/lib/python3.7/site-packages/sklearn/model_selection/_search.py:813: DeprecationWarning: The default of the `iid` parameter will change from True to False in version 0.22 and will be removed in 0.24. This will change numeric results when test-set sizes are unequal.\n",
      "  DeprecationWarning)\n"
     ]
    },
    {
     "data": {
      "text/plain": [
       "GridSearchCV(cv=5, error_score='raise-deprecating',\n",
       "             estimator=Pipeline(memory=None,\n",
       "                                steps=[('col_transformer_scaler',\n",
       "                                        ColumnTransformer(n_jobs=None,\n",
       "                                                          remainder='passthrough',\n",
       "                                                          sparse_threshold=0.3,\n",
       "                                                          transformer_weights=None,\n",
       "                                                          transformers=[('scaler',\n",
       "                                                                         StandardScaler(copy=True,\n",
       "                                                                                        with_mean=True,\n",
       "                                                                                        with_std=True),\n",
       "                                                                         ['age',\n",
       "                                                                          'trestbps',\n",
       "                                                                          'chol',\n",
       "                                                                          'thalach',\n",
       "                                                                          'oldpeak'])],\n",
       "                                                          verbose=F...\n",
       "                                        KNeighborsClassifier(algorithm='auto',\n",
       "                                                             leaf_size=30,\n",
       "                                                             metric='minkowski',\n",
       "                                                             metric_params=None,\n",
       "                                                             n_jobs=None,\n",
       "                                                             n_neighbors=5, p=2,\n",
       "                                                             weights='uniform'))],\n",
       "                                verbose=False),\n",
       "             iid='warn', n_jobs=None,\n",
       "             param_grid={'knn__n_neighbors': [1, 2, 3, 4, 5, 6, 7, 8, 9, 10, 11,\n",
       "                                              12, 13, 14, 15, 16, 17, 18, 19,\n",
       "                                              20, 21, 22, 23, 24, 25, 26, 27,\n",
       "                                              28, 29, 30, ...]},\n",
       "             pre_dispatch='2*n_jobs', refit=True, return_train_score=False,\n",
       "             scoring='accuracy', verbose=3)"
      ]
     },
     "execution_count": 44,
     "metadata": {},
     "output_type": "execute_result"
    }
   ],
   "source": [
    "### Can also do this with cross validation an a grid search to choose k.\n",
    "### Attention! Need to put into pipeline so that each train fold is scaled \n",
    "### and the test fold by the same fit params to avoid data leakage\n",
    "### so work with X_train and X_test, not X_train_scaled and X_test_scaled\n",
    "\n",
    "from sklearn.pipeline import Pipeline\n",
    "\n",
    "knn_pipeline = Pipeline([\n",
    "    ('col_transformer_scaler', col_transformer),\n",
    "    ('knn', KNeighborsClassifier())\n",
    "])\n",
    "\n",
    "from sklearn.model_selection import GridSearchCV\n",
    "\n",
    "knn_param_grid = {'knn__n_neighbors' : [i for i in range(1,40)]} \n",
    "grid_search = GridSearchCV(knn_pipeline, knn_param_grid, cv=5, verbose=3, scoring='accuracy')\n",
    "grid_search.fit(X_train, y_train)"
   ]
  },
  {
   "cell_type": "code",
   "execution_count": 45,
   "metadata": {},
   "outputs": [
    {
     "data": {
      "text/plain": [
       "{'knn__n_neighbors': 11}"
      ]
     },
     "execution_count": 45,
     "metadata": {},
     "output_type": "execute_result"
    }
   ],
   "source": [
    "grid_search.best_params_"
   ]
  },
  {
   "cell_type": "code",
   "execution_count": 46,
   "metadata": {},
   "outputs": [
    {
     "data": {
      "text/plain": [
       "0.7783251231527094"
      ]
     },
     "execution_count": 46,
     "metadata": {},
     "output_type": "execute_result"
    }
   ],
   "source": [
    "grid_search.best_score_"
   ]
  },
  {
   "cell_type": "code",
   "execution_count": 47,
   "metadata": {},
   "outputs": [
    {
     "name": "stdout",
     "output_type": "stream",
     "text": [
      "[0.68472906 0.7044335  0.76847291 0.74876847 0.77339901 0.77339901\n",
      " 0.76847291 0.77339901 0.77339901 0.75862069 0.77832512 0.76847291\n",
      " 0.77832512 0.77339901 0.76847291 0.75369458 0.76847291 0.76847291\n",
      " 0.76847291 0.75862069 0.7635468  0.74876847 0.7635468  0.74876847\n",
      " 0.7635468  0.7635468  0.76847291 0.76847291 0.76847291 0.77832512\n",
      " 0.77339901 0.7635468  0.76847291 0.76847291 0.77339901 0.77339901\n",
      " 0.77339901 0.77339901 0.7635468 ]\n"
     ]
    }
   ],
   "source": [
    "knn_grid_scores = grid_search.cv_results_['mean_test_score']\n",
    "print(knn_grid_scores)"
   ]
  },
  {
   "cell_type": "code",
   "execution_count": 48,
   "metadata": {},
   "outputs": [
    {
     "data": {
      "text/plain": [
       "Text(0, 0.5, 'Error = 1 - mean accuracy')"
      ]
     },
     "execution_count": 48,
     "metadata": {},
     "output_type": "execute_result"
    },
    {
     "data": {
      "image/png": "[encoded data removed]",
      "text/plain": [
       "<Figure size 720x432 with 1 Axes>"
      ]
     },
     "metadata": {},
     "output_type": "display_data"
    }
   ],
   "source": [
    "plt.style.use('ggplot')\n",
    "plt.figure(figsize=(10,6))\n",
    "plt.plot(range(1,40), 1-knn_grid_scores, color='blue', linestyle='-', marker='o')\n",
    "plt.xlabel(\"k\")\n",
    "plt.ylabel(\"Error = 1 - mean accuracy\")"
   ]
  },
  {
   "cell_type": "code",
   "execution_count": 49,
   "metadata": {},
   "outputs": [],
   "source": [
    "knn_predictions = grid_search.predict(X_test)"
   ]
  },
  {
   "cell_type": "code",
   "execution_count": 50,
   "metadata": {},
   "outputs": [
    {
     "name": "stdout",
     "output_type": "stream",
     "text": [
      "              precision    recall  f1-score   support\n",
      "\n",
      "           0       0.86      0.83      0.84        52\n",
      "           1       0.82      0.85      0.84        48\n",
      "\n",
      "    accuracy                           0.84       100\n",
      "   macro avg       0.84      0.84      0.84       100\n",
      "weighted avg       0.84      0.84      0.84       100\n",
      "\n",
      "[[43  9]\n",
      " [ 7 41]]\n"
     ]
    }
   ],
   "source": [
    "print(classification_report(y_test, knn_predictions))\n",
    "print(confusion_matrix(y_test, knn_predictions))"
   ]
  },
  {
   "cell_type": "code",
   "execution_count": null,
   "metadata": {},
   "outputs": [],
   "source": []
  },
  {
   "cell_type": "markdown",
   "metadata": {},
   "source": [
    "## now try support vector classifier"
   ]
  },
  {
   "cell_type": "code",
   "execution_count": 52,
   "metadata": {},
   "outputs": [],
   "source": [
    "from sklearn.svm import SVC\n",
    "\n",
    "svc_pipeline = Pipeline([\n",
    "    ('col_transformer_scaler', col_transformer),\n",
    "    ('svc', SVC())\n",
    "])\n",
    "\n",
    "svc_param_grid = {'svc__C': [0.1, 1, 10, 100, 1000], 'svc__gamma': [1, 0.1, 0.01, 0.001, 0.0001], 'svc__kernel': ['rbf']}"
   ]
  },
  {
   "cell_type": "code",
   "execution_count": 53,
   "metadata": {},
   "outputs": [
    {
     "name": "stdout",
     "output_type": "stream",
     "text": [
      "Fitting 5 folds for each of 25 candidates, totalling 125 fits\n",
      "[CV] svc__C=0.1, svc__gamma=1, svc__kernel=rbf .......................\n",
      "[CV]  svc__C=0.1, svc__gamma=1, svc__kernel=rbf, score=0.561, total=   0.0s\n",
      "[CV] svc__C=0.1, svc__gamma=1, svc__kernel=rbf .......................\n",
      "[CV]  svc__C=0.1, svc__gamma=1, svc__kernel=rbf, score=0.561, total=   0.0s\n",
      "[CV] svc__C=0.1, svc__gamma=1, svc__kernel=rbf .......................\n",
      "[CV]  svc__C=0.1, svc__gamma=1, svc__kernel=rbf, score=0.561, total=   0.0s\n",
      "[CV] svc__C=0.1, svc__gamma=1, svc__kernel=rbf .......................\n",
      "[CV]  svc__C=0.1, svc__gamma=1, svc__kernel=rbf, score=0.550, total=   0.0s\n",
      "[CV] svc__C=0.1, svc__gamma=1, svc__kernel=rbf .......................\n",
      "[CV]  svc__C=0.1, svc__gamma=1, svc__kernel=rbf, score=0.550, total=   0.0s\n",
      "[CV] svc__C=0.1, svc__gamma=0.1, svc__kernel=rbf .....................\n",
      "[CV]  svc__C=0.1, svc__gamma=0.1, svc__kernel=rbf, score=0.780, total=   0.0s\n",
      "[CV] svc__C=0.1, svc__gamma=0.1, svc__kernel=rbf .....................\n",
      "[CV]  svc__C=0.1, svc__gamma=0.1, svc__kernel=rbf, score=0.707, total=   0.0s\n",
      "[CV] svc__C=0.1, svc__gamma=0.1, svc__kernel=rbf .....................\n",
      "[CV]  svc__C=0.1, svc__gamma=0.1, svc__kernel=rbf, score=0.732, total=   0.0s\n",
      "[CV] svc__C=0.1, svc__gamma=0.1, svc__kernel=rbf .....................\n",
      "[CV]  svc__C=0.1, svc__gamma=0.1, svc__kernel=rbf, score=0.700, total=   0.0s\n",
      "[CV] svc__C=0.1, svc__gamma=0.1, svc__kernel=rbf .....................\n",
      "[CV]  svc__C=0.1, svc__gamma=0.1, svc__kernel=rbf, score=0.850, total=   0.0s\n",
      "[CV] svc__C=0.1, svc__gamma=0.01, svc__kernel=rbf ....................\n",
      "[CV]  svc__C=0.1, svc__gamma=0.01, svc__kernel=rbf, score=0.561, total=   0.0s\n",
      "[CV] svc__C=0.1, svc__gamma=0.01, svc__kernel=rbf ....................\n",
      "[CV]  svc__C=0.1, svc__gamma=0.01, svc__kernel=rbf, score=0.561, total=   0.0s\n",
      "[CV] svc__C=0.1, svc__gamma=0.01, svc__kernel=rbf ....................\n",
      "[CV]  svc__C=0.1, svc__gamma=0.01, svc__kernel=rbf, score=0.561, total=   0.0s\n",
      "[CV] svc__C=0.1, svc__gamma=0.01, svc__kernel=rbf ....................\n",
      "[CV]  svc__C=0.1, svc__gamma=0.01, svc__kernel=rbf, score=0.550, total=   0.0s\n",
      "[CV] svc__C=0.1, svc__gamma=0.01, svc__kernel=rbf ....................\n",
      "[CV]  svc__C=0.1, svc__gamma=0.01, svc__kernel=rbf, score=0.550, total=   0.0s\n",
      "[CV] svc__C=0.1, svc__gamma=0.001, svc__kernel=rbf ...................\n",
      "[CV]  svc__C=0.1, svc__gamma=0.001, svc__kernel=rbf, score=0.561, total=   0.0s\n",
      "[CV] svc__C=0.1, svc__gamma=0.001, svc__kernel=rbf ...................\n",
      "[CV]  svc__C=0.1, svc__gamma=0.001, svc__kernel=rbf, score=0.561, total=   0.0s\n",
      "[CV] svc__C=0.1, svc__gamma=0.001, svc__kernel=rbf ...................\n",
      "[CV]  svc__C=0.1, svc__gamma=0.001, svc__kernel=rbf, score=0.561, total=   0.0s\n",
      "[CV] svc__C=0.1, svc__gamma=0.001, svc__kernel=rbf ...................\n",
      "[CV]  svc__C=0.1, svc__gamma=0.001, svc__kernel=rbf, score=0.550, total=   0.0s\n",
      "[CV] svc__C=0.1, svc__gamma=0.001, svc__kernel=rbf ...................\n"
     ]
    },
    {
     "name": "stderr",
     "output_type": "stream",
     "text": [
      "[Parallel(n_jobs=1)]: Using backend SequentialBackend with 1 concurrent workers.\n",
      "[Parallel(n_jobs=1)]: Done   1 out of   1 | elapsed:    0.0s remaining:    0.0s\n",
      "[Parallel(n_jobs=1)]: Done   2 out of   2 | elapsed:    0.0s remaining:    0.0s\n"
     ]
    },
    {
     "name": "stdout",
     "output_type": "stream",
     "text": [
      "[CV]  svc__C=0.1, svc__gamma=0.001, svc__kernel=rbf, score=0.550, total=   0.0s\n",
      "[CV] svc__C=0.1, svc__gamma=0.0001, svc__kernel=rbf ..................\n",
      "[CV]  svc__C=0.1, svc__gamma=0.0001, svc__kernel=rbf, score=0.561, total=   0.0s\n",
      "[CV] svc__C=0.1, svc__gamma=0.0001, svc__kernel=rbf ..................\n",
      "[CV]  svc__C=0.1, svc__gamma=0.0001, svc__kernel=rbf, score=0.561, total=   0.0s\n",
      "[CV] svc__C=0.1, svc__gamma=0.0001, svc__kernel=rbf ..................\n",
      "[CV]  svc__C=0.1, svc__gamma=0.0001, svc__kernel=rbf, score=0.561, total=   0.0s\n",
      "[CV] svc__C=0.1, svc__gamma=0.0001, svc__kernel=rbf ..................\n",
      "[CV]  svc__C=0.1, svc__gamma=0.0001, svc__kernel=rbf, score=0.550, total=   0.0s\n",
      "[CV] svc__C=0.1, svc__gamma=0.0001, svc__kernel=rbf ..................\n",
      "[CV]  svc__C=0.1, svc__gamma=0.0001, svc__kernel=rbf, score=0.550, total=   0.0s\n",
      "[CV] svc__C=1, svc__gamma=1, svc__kernel=rbf .........................\n",
      "[CV]  svc__C=1, svc__gamma=1, svc__kernel=rbf, score=0.610, total=   0.0s\n",
      "[CV] svc__C=1, svc__gamma=1, svc__kernel=rbf .........................\n",
      "[CV]  svc__C=1, svc__gamma=1, svc__kernel=rbf, score=0.634, total=   0.0s\n",
      "[CV] svc__C=1, svc__gamma=1, svc__kernel=rbf .........................\n",
      "[CV]  svc__C=1, svc__gamma=1, svc__kernel=rbf, score=0.610, total=   0.0s\n",
      "[CV] svc__C=1, svc__gamma=1, svc__kernel=rbf .........................\n",
      "[CV]  svc__C=1, svc__gamma=1, svc__kernel=rbf, score=0.600, total=   0.0s\n",
      "[CV] svc__C=1, svc__gamma=1, svc__kernel=rbf .........................\n",
      "[CV]  svc__C=1, svc__gamma=1, svc__kernel=rbf, score=0.600, total=   0.0s\n",
      "[CV] svc__C=1, svc__gamma=0.1, svc__kernel=rbf .......................\n",
      "[CV]  svc__C=1, svc__gamma=0.1, svc__kernel=rbf, score=0.829, total=   0.0s\n",
      "[CV] svc__C=1, svc__gamma=0.1, svc__kernel=rbf .......................\n",
      "[CV]  svc__C=1, svc__gamma=0.1, svc__kernel=rbf, score=0.829, total=   0.0s\n",
      "[CV] svc__C=1, svc__gamma=0.1, svc__kernel=rbf .......................\n",
      "[CV]  svc__C=1, svc__gamma=0.1, svc__kernel=rbf, score=0.732, total=   0.0s\n",
      "[CV] svc__C=1, svc__gamma=0.1, svc__kernel=rbf .......................\n",
      "[CV]  svc__C=1, svc__gamma=0.1, svc__kernel=rbf, score=0.725, total=   0.0s\n",
      "[CV] svc__C=1, svc__gamma=0.1, svc__kernel=rbf .......................\n",
      "[CV]  svc__C=1, svc__gamma=0.1, svc__kernel=rbf, score=0.900, total=   0.0s\n",
      "[CV] svc__C=1, svc__gamma=0.01, svc__kernel=rbf ......................\n",
      "[CV]  svc__C=1, svc__gamma=0.01, svc__kernel=rbf, score=0.854, total=   0.0s\n",
      "[CV] svc__C=1, svc__gamma=0.01, svc__kernel=rbf ......................\n",
      "[CV]  svc__C=1, svc__gamma=0.01, svc__kernel=rbf, score=0.756, total=   0.0s\n",
      "[CV] svc__C=1, svc__gamma=0.01, svc__kernel=rbf ......................\n",
      "[CV]  svc__C=1, svc__gamma=0.01, svc__kernel=rbf, score=0.707, total=   0.0s\n",
      "[CV] svc__C=1, svc__gamma=0.01, svc__kernel=rbf ......................\n",
      "[CV]  svc__C=1, svc__gamma=0.01, svc__kernel=rbf, score=0.700, total=   0.0s\n",
      "[CV] svc__C=1, svc__gamma=0.01, svc__kernel=rbf ......................\n",
      "[CV]  svc__C=1, svc__gamma=0.01, svc__kernel=rbf, score=0.900, total=   0.0s\n",
      "[CV] svc__C=1, svc__gamma=0.001, svc__kernel=rbf .....................\n",
      "[CV]  svc__C=1, svc__gamma=0.001, svc__kernel=rbf, score=0.561, total=   0.0s\n",
      "[CV] svc__C=1, svc__gamma=0.001, svc__kernel=rbf .....................\n",
      "[CV]  svc__C=1, svc__gamma=0.001, svc__kernel=rbf, score=0.561, total=   0.0s\n",
      "[CV] svc__C=1, svc__gamma=0.001, svc__kernel=rbf .....................\n",
      "[CV]  svc__C=1, svc__gamma=0.001, svc__kernel=rbf, score=0.561, total=   0.0s\n",
      "[CV] svc__C=1, svc__gamma=0.001, svc__kernel=rbf .....................\n",
      "[CV]  svc__C=1, svc__gamma=0.001, svc__kernel=rbf, score=0.550, total=   0.0s\n",
      "[CV] svc__C=1, svc__gamma=0.001, svc__kernel=rbf .....................\n",
      "[CV]  svc__C=1, svc__gamma=0.001, svc__kernel=rbf, score=0.550, total=   0.0s\n",
      "[CV] svc__C=1, svc__gamma=0.0001, svc__kernel=rbf ....................\n",
      "[CV]  svc__C=1, svc__gamma=0.0001, svc__kernel=rbf, score=0.561, total=   0.0s\n",
      "[CV] svc__C=1, svc__gamma=0.0001, svc__kernel=rbf ....................\n",
      "[CV]  svc__C=1, svc__gamma=0.0001, svc__kernel=rbf, score=0.561, total=   0.0s\n",
      "[CV] svc__C=1, svc__gamma=0.0001, svc__kernel=rbf ....................\n",
      "[CV]  svc__C=1, svc__gamma=0.0001, svc__kernel=rbf, score=0.561, total=   0.0s\n",
      "[CV] svc__C=1, svc__gamma=0.0001, svc__kernel=rbf ....................\n",
      "[CV]  svc__C=1, svc__gamma=0.0001, svc__kernel=rbf, score=0.550, total=   0.0s\n",
      "[CV] svc__C=1, svc__gamma=0.0001, svc__kernel=rbf ....................\n",
      "[CV]  svc__C=1, svc__gamma=0.0001, svc__kernel=rbf, score=0.550, total=   0.0s\n",
      "[CV] svc__C=10, svc__gamma=1, svc__kernel=rbf ........................\n",
      "[CV]  svc__C=10, svc__gamma=1, svc__kernel=rbf, score=0.634, total=   0.0s\n",
      "[CV] svc__C=10, svc__gamma=1, svc__kernel=rbf ........................\n",
      "[CV]  svc__C=10, svc__gamma=1, svc__kernel=rbf, score=0.634, total=   0.0s\n",
      "[CV] svc__C=10, svc__gamma=1, svc__kernel=rbf ........................\n",
      "[CV]  svc__C=10, svc__gamma=1, svc__kernel=rbf, score=0.683, total=   0.0s\n",
      "[CV] svc__C=10, svc__gamma=1, svc__kernel=rbf ........................\n",
      "[CV]  svc__C=10, svc__gamma=1, svc__kernel=rbf, score=0.625, total=   0.0s\n",
      "[CV] svc__C=10, svc__gamma=1, svc__kernel=rbf ........................\n",
      "[CV]  svc__C=10, svc__gamma=1, svc__kernel=rbf, score=0.575, total=   0.0s\n",
      "[CV] svc__C=10, svc__gamma=0.1, svc__kernel=rbf ......................\n",
      "[CV]  svc__C=10, svc__gamma=0.1, svc__kernel=rbf, score=0.756, total=   0.0s\n",
      "[CV] svc__C=10, svc__gamma=0.1, svc__kernel=rbf ......................\n",
      "[CV]  svc__C=10, svc__gamma=0.1, svc__kernel=rbf, score=0.707, total=   0.0s\n",
      "[CV] svc__C=10, svc__gamma=0.1, svc__kernel=rbf ......................\n",
      "[CV]  svc__C=10, svc__gamma=0.1, svc__kernel=rbf, score=0.707, total=   0.0s\n",
      "[CV] svc__C=10, svc__gamma=0.1, svc__kernel=rbf ......................\n",
      "[CV]  svc__C=10, svc__gamma=0.1, svc__kernel=rbf, score=0.675, total=   0.0s\n",
      "[CV] svc__C=10, svc__gamma=0.1, svc__kernel=rbf ......................\n",
      "[CV]  svc__C=10, svc__gamma=0.1, svc__kernel=rbf, score=0.750, total=   0.0s\n",
      "[CV] svc__C=10, svc__gamma=0.01, svc__kernel=rbf .....................\n",
      "[CV]  svc__C=10, svc__gamma=0.01, svc__kernel=rbf, score=0.854, total=   0.0s\n",
      "[CV] svc__C=10, svc__gamma=0.01, svc__kernel=rbf .....................\n",
      "[CV]  svc__C=10, svc__gamma=0.01, svc__kernel=rbf, score=0.829, total=   0.0s\n",
      "[CV] svc__C=10, svc__gamma=0.01, svc__kernel=rbf .....................\n",
      "[CV]  svc__C=10, svc__gamma=0.01, svc__kernel=rbf, score=0.732, total=   0.0s\n",
      "[CV] svc__C=10, svc__gamma=0.01, svc__kernel=rbf .....................\n",
      "[CV]  svc__C=10, svc__gamma=0.01, svc__kernel=rbf, score=0.725, total=   0.0s\n",
      "[CV] svc__C=10, svc__gamma=0.01, svc__kernel=rbf .....................\n",
      "[CV]  svc__C=10, svc__gamma=0.01, svc__kernel=rbf, score=0.925, total=   0.0s\n",
      "[CV] svc__C=10, svc__gamma=0.001, svc__kernel=rbf ....................\n",
      "[CV]  svc__C=10, svc__gamma=0.001, svc__kernel=rbf, score=0.854, total=   0.0s\n",
      "[CV] svc__C=10, svc__gamma=0.001, svc__kernel=rbf ....................\n",
      "[CV]  svc__C=10, svc__gamma=0.001, svc__kernel=rbf, score=0.756, total=   0.0s\n",
      "[CV] svc__C=10, svc__gamma=0.001, svc__kernel=rbf ....................\n",
      "[CV]  svc__C=10, svc__gamma=0.001, svc__kernel=rbf, score=0.707, total=   0.0s\n",
      "[CV] svc__C=10, svc__gamma=0.001, svc__kernel=rbf ....................\n",
      "[CV]  svc__C=10, svc__gamma=0.001, svc__kernel=rbf, score=0.725, total=   0.0s\n",
      "[CV] svc__C=10, svc__gamma=0.001, svc__kernel=rbf ....................\n",
      "[CV]  svc__C=10, svc__gamma=0.001, svc__kernel=rbf, score=0.925, total=   0.0s\n",
      "[CV] svc__C=10, svc__gamma=0.0001, svc__kernel=rbf ...................\n",
      "[CV]  svc__C=10, svc__gamma=0.0001, svc__kernel=rbf, score=0.561, total=   0.0s\n",
      "[CV] svc__C=10, svc__gamma=0.0001, svc__kernel=rbf ...................\n",
      "[CV]  svc__C=10, svc__gamma=0.0001, svc__kernel=rbf, score=0.561, total=   0.0s\n",
      "[CV] svc__C=10, svc__gamma=0.0001, svc__kernel=rbf ...................\n",
      "[CV]  svc__C=10, svc__gamma=0.0001, svc__kernel=rbf, score=0.561, total=   0.0s\n",
      "[CV] svc__C=10, svc__gamma=0.0001, svc__kernel=rbf ...................\n",
      "[CV]  svc__C=10, svc__gamma=0.0001, svc__kernel=rbf, score=0.550, total=   0.0s\n",
      "[CV] svc__C=10, svc__gamma=0.0001, svc__kernel=rbf ...................\n",
      "[CV]  svc__C=10, svc__gamma=0.0001, svc__kernel=rbf, score=0.550, total=   0.0s\n",
      "[CV] svc__C=100, svc__gamma=1, svc__kernel=rbf .......................\n",
      "[CV]  svc__C=100, svc__gamma=1, svc__kernel=rbf, score=0.634, total=   0.0s\n",
      "[CV] svc__C=100, svc__gamma=1, svc__kernel=rbf .......................\n",
      "[CV]  svc__C=100, svc__gamma=1, svc__kernel=rbf, score=0.634, total=   0.0s\n",
      "[CV] svc__C=100, svc__gamma=1, svc__kernel=rbf .......................\n",
      "[CV]  svc__C=100, svc__gamma=1, svc__kernel=rbf, score=0.683, total=   0.0s\n",
      "[CV] svc__C=100, svc__gamma=1, svc__kernel=rbf .......................\n",
      "[CV]  svc__C=100, svc__gamma=1, svc__kernel=rbf, score=0.625, total=   0.0s\n",
      "[CV] svc__C=100, svc__gamma=1, svc__kernel=rbf .......................\n",
      "[CV]  svc__C=100, svc__gamma=1, svc__kernel=rbf, score=0.575, total=   0.0s\n",
      "[CV] svc__C=100, svc__gamma=0.1, svc__kernel=rbf .....................\n",
      "[CV]  svc__C=100, svc__gamma=0.1, svc__kernel=rbf, score=0.756, total=   0.0s\n",
      "[CV] svc__C=100, svc__gamma=0.1, svc__kernel=rbf .....................\n",
      "[CV]  svc__C=100, svc__gamma=0.1, svc__kernel=rbf, score=0.707, total=   0.0s\n",
      "[CV] svc__C=100, svc__gamma=0.1, svc__kernel=rbf .....................\n",
      "[CV]  svc__C=100, svc__gamma=0.1, svc__kernel=rbf, score=0.707, total=   0.0s\n",
      "[CV] svc__C=100, svc__gamma=0.1, svc__kernel=rbf .....................\n",
      "[CV]  svc__C=100, svc__gamma=0.1, svc__kernel=rbf, score=0.675, total=   0.0s\n",
      "[CV] svc__C=100, svc__gamma=0.1, svc__kernel=rbf .....................\n",
      "[CV]  svc__C=100, svc__gamma=0.1, svc__kernel=rbf, score=0.725, total=   0.0s\n",
      "[CV] svc__C=100, svc__gamma=0.01, svc__kernel=rbf ....................\n",
      "[CV]  svc__C=100, svc__gamma=0.01, svc__kernel=rbf, score=0.829, total=   0.0s\n",
      "[CV] svc__C=100, svc__gamma=0.01, svc__kernel=rbf ....................\n",
      "[CV]  svc__C=100, svc__gamma=0.01, svc__kernel=rbf, score=0.805, total=   0.0s\n",
      "[CV] svc__C=100, svc__gamma=0.01, svc__kernel=rbf ....................\n",
      "[CV]  svc__C=100, svc__gamma=0.01, svc__kernel=rbf, score=0.707, total=   0.0s\n",
      "[CV] svc__C=100, svc__gamma=0.01, svc__kernel=rbf ....................\n",
      "[CV]  svc__C=100, svc__gamma=0.01, svc__kernel=rbf, score=0.800, total=   0.0s\n",
      "[CV] svc__C=100, svc__gamma=0.01, svc__kernel=rbf ....................\n",
      "[CV]  svc__C=100, svc__gamma=0.01, svc__kernel=rbf, score=0.875, total=   0.0s\n",
      "[CV] svc__C=100, svc__gamma=0.001, svc__kernel=rbf ...................\n"
     ]
    },
    {
     "name": "stdout",
     "output_type": "stream",
     "text": [
      "[CV]  svc__C=100, svc__gamma=0.001, svc__kernel=rbf, score=0.829, total=   0.0s\n",
      "[CV] svc__C=100, svc__gamma=0.001, svc__kernel=rbf ...................\n",
      "[CV]  svc__C=100, svc__gamma=0.001, svc__kernel=rbf, score=0.854, total=   0.0s\n",
      "[CV] svc__C=100, svc__gamma=0.001, svc__kernel=rbf ...................\n",
      "[CV]  svc__C=100, svc__gamma=0.001, svc__kernel=rbf, score=0.780, total=   0.0s\n",
      "[CV] svc__C=100, svc__gamma=0.001, svc__kernel=rbf ...................\n",
      "[CV]  svc__C=100, svc__gamma=0.001, svc__kernel=rbf, score=0.725, total=   0.0s\n",
      "[CV] svc__C=100, svc__gamma=0.001, svc__kernel=rbf ...................\n",
      "[CV]  svc__C=100, svc__gamma=0.001, svc__kernel=rbf, score=0.925, total=   0.0s\n",
      "[CV] svc__C=100, svc__gamma=0.0001, svc__kernel=rbf ..................\n",
      "[CV]  svc__C=100, svc__gamma=0.0001, svc__kernel=rbf, score=0.854, total=   0.0s\n",
      "[CV] svc__C=100, svc__gamma=0.0001, svc__kernel=rbf ..................\n",
      "[CV]  svc__C=100, svc__gamma=0.0001, svc__kernel=rbf, score=0.756, total=   0.0s\n",
      "[CV] svc__C=100, svc__gamma=0.0001, svc__kernel=rbf ..................\n",
      "[CV]  svc__C=100, svc__gamma=0.0001, svc__kernel=rbf, score=0.707, total=   0.0s\n",
      "[CV] svc__C=100, svc__gamma=0.0001, svc__kernel=rbf ..................\n",
      "[CV]  svc__C=100, svc__gamma=0.0001, svc__kernel=rbf, score=0.725, total=   0.0s\n",
      "[CV] svc__C=100, svc__gamma=0.0001, svc__kernel=rbf ..................\n",
      "[CV]  svc__C=100, svc__gamma=0.0001, svc__kernel=rbf, score=0.925, total=   0.0s\n",
      "[CV] svc__C=1000, svc__gamma=1, svc__kernel=rbf ......................\n",
      "[CV]  svc__C=1000, svc__gamma=1, svc__kernel=rbf, score=0.634, total=   0.0s\n",
      "[CV] svc__C=1000, svc__gamma=1, svc__kernel=rbf ......................\n",
      "[CV]  svc__C=1000, svc__gamma=1, svc__kernel=rbf, score=0.634, total=   0.0s\n",
      "[CV] svc__C=1000, svc__gamma=1, svc__kernel=rbf ......................\n",
      "[CV]  svc__C=1000, svc__gamma=1, svc__kernel=rbf, score=0.683, total=   0.0s\n",
      "[CV] svc__C=1000, svc__gamma=1, svc__kernel=rbf ......................\n",
      "[CV]  svc__C=1000, svc__gamma=1, svc__kernel=rbf, score=0.625, total=   0.0s\n",
      "[CV] svc__C=1000, svc__gamma=1, svc__kernel=rbf ......................\n",
      "[CV]  svc__C=1000, svc__gamma=1, svc__kernel=rbf, score=0.575, total=   0.0s\n",
      "[CV] svc__C=1000, svc__gamma=0.1, svc__kernel=rbf ....................\n",
      "[CV]  svc__C=1000, svc__gamma=0.1, svc__kernel=rbf, score=0.756, total=   0.0s\n",
      "[CV] svc__C=1000, svc__gamma=0.1, svc__kernel=rbf ....................\n",
      "[CV]  svc__C=1000, svc__gamma=0.1, svc__kernel=rbf, score=0.707, total=   0.0s\n",
      "[CV] svc__C=1000, svc__gamma=0.1, svc__kernel=rbf ....................\n",
      "[CV]  svc__C=1000, svc__gamma=0.1, svc__kernel=rbf, score=0.707, total=   0.0s\n",
      "[CV] svc__C=1000, svc__gamma=0.1, svc__kernel=rbf ....................\n",
      "[CV]  svc__C=1000, svc__gamma=0.1, svc__kernel=rbf, score=0.675, total=   0.0s\n",
      "[CV] svc__C=1000, svc__gamma=0.1, svc__kernel=rbf ....................\n",
      "[CV]  svc__C=1000, svc__gamma=0.1, svc__kernel=rbf, score=0.725, total=   0.0s\n",
      "[CV] svc__C=1000, svc__gamma=0.01, svc__kernel=rbf ...................\n",
      "[CV]  svc__C=1000, svc__gamma=0.01, svc__kernel=rbf, score=0.756, total=   0.0s\n",
      "[CV] svc__C=1000, svc__gamma=0.01, svc__kernel=rbf ...................\n",
      "[CV]  svc__C=1000, svc__gamma=0.01, svc__kernel=rbf, score=0.756, total=   0.0s\n",
      "[CV] svc__C=1000, svc__gamma=0.01, svc__kernel=rbf ...................\n",
      "[CV]  svc__C=1000, svc__gamma=0.01, svc__kernel=rbf, score=0.707, total=   0.0s\n",
      "[CV] svc__C=1000, svc__gamma=0.01, svc__kernel=rbf ...................\n",
      "[CV]  svc__C=1000, svc__gamma=0.01, svc__kernel=rbf, score=0.775, total=   0.0s\n",
      "[CV] svc__C=1000, svc__gamma=0.01, svc__kernel=rbf ...................\n",
      "[CV]  svc__C=1000, svc__gamma=0.01, svc__kernel=rbf, score=0.725, total=   0.0s\n",
      "[CV] svc__C=1000, svc__gamma=0.001, svc__kernel=rbf ..................\n",
      "[CV]  svc__C=1000, svc__gamma=0.001, svc__kernel=rbf, score=0.805, total=   0.0s\n",
      "[CV] svc__C=1000, svc__gamma=0.001, svc__kernel=rbf ..................\n",
      "[CV]  svc__C=1000, svc__gamma=0.001, svc__kernel=rbf, score=0.780, total=   0.0s\n",
      "[CV] svc__C=1000, svc__gamma=0.001, svc__kernel=rbf ..................\n",
      "[CV]  svc__C=1000, svc__gamma=0.001, svc__kernel=rbf, score=0.732, total=   0.0s\n",
      "[CV] svc__C=1000, svc__gamma=0.001, svc__kernel=rbf ..................\n",
      "[CV]  svc__C=1000, svc__gamma=0.001, svc__kernel=rbf, score=0.800, total=   0.0s\n",
      "[CV] svc__C=1000, svc__gamma=0.001, svc__kernel=rbf ..................\n",
      "[CV]  svc__C=1000, svc__gamma=0.001, svc__kernel=rbf, score=0.925, total=   0.0s\n",
      "[CV] svc__C=1000, svc__gamma=0.0001, svc__kernel=rbf .................\n",
      "[CV]  svc__C=1000, svc__gamma=0.0001, svc__kernel=rbf, score=0.829, total=   0.0s\n",
      "[CV] svc__C=1000, svc__gamma=0.0001, svc__kernel=rbf .................\n",
      "[CV]  svc__C=1000, svc__gamma=0.0001, svc__kernel=rbf, score=0.854, total=   0.0s\n",
      "[CV] svc__C=1000, svc__gamma=0.0001, svc__kernel=rbf .................\n",
      "[CV]  svc__C=1000, svc__gamma=0.0001, svc__kernel=rbf, score=0.780, total=   0.0s\n",
      "[CV] svc__C=1000, svc__gamma=0.0001, svc__kernel=rbf .................\n",
      "[CV]  svc__C=1000, svc__gamma=0.0001, svc__kernel=rbf, score=0.725, total=   0.0s\n",
      "[CV] svc__C=1000, svc__gamma=0.0001, svc__kernel=rbf .................\n",
      "[CV]  svc__C=1000, svc__gamma=0.0001, svc__kernel=rbf, score=0.925, total=   0.0s\n"
     ]
    },
    {
     "name": "stderr",
     "output_type": "stream",
     "text": [
      "[Parallel(n_jobs=1)]: Done 125 out of 125 | elapsed:    1.2s finished\n",
      "/home/robertv/anaconda3/lib/python3.7/site-packages/sklearn/model_selection/_search.py:813: DeprecationWarning: The default of the `iid` parameter will change from True to False in version 0.22 and will be removed in 0.24. This will change numeric results when test-set sizes are unequal.\n",
      "  DeprecationWarning)\n"
     ]
    },
    {
     "data": {
      "text/plain": [
       "GridSearchCV(cv=5, error_score='raise-deprecating',\n",
       "             estimator=Pipeline(memory=None,\n",
       "                                steps=[('col_transformer_scaler',\n",
       "                                        ColumnTransformer(n_jobs=None,\n",
       "                                                          remainder='passthrough',\n",
       "                                                          sparse_threshold=0.3,\n",
       "                                                          transformer_weights=None,\n",
       "                                                          transformers=[('scaler',\n",
       "                                                                         StandardScaler(copy=True,\n",
       "                                                                                        with_mean=True,\n",
       "                                                                                        with_std=True),\n",
       "                                                                         ['age',\n",
       "                                                                          'trestbps',\n",
       "                                                                          'chol',\n",
       "                                                                          'thalach',\n",
       "                                                                          'oldpeak'])],\n",
       "                                                          verbose=F...\n",
       "                                            degree=3, gamma='auto_deprecated',\n",
       "                                            kernel='rbf', max_iter=-1,\n",
       "                                            probability=False,\n",
       "                                            random_state=None, shrinking=True,\n",
       "                                            tol=0.001, verbose=False))],\n",
       "                                verbose=False),\n",
       "             iid='warn', n_jobs=None,\n",
       "             param_grid={'svc__C': [0.1, 1, 10, 100, 1000],\n",
       "                         'svc__gamma': [1, 0.1, 0.01, 0.001, 0.0001],\n",
       "                         'svc__kernel': ['rbf']},\n",
       "             pre_dispatch='2*n_jobs', refit=True, return_train_score=False,\n",
       "             scoring='accuracy', verbose=3)"
      ]
     },
     "execution_count": 53,
     "metadata": {},
     "output_type": "execute_result"
    }
   ],
   "source": [
    "grid_search_svc = GridSearchCV(svc_pipeline, svc_param_grid, cv=5, verbose=3, scoring='accuracy')\n",
    "grid_search_svc.fit(X_train, y_train)"
   ]
  },
  {
   "cell_type": "code",
   "execution_count": 56,
   "metadata": {},
   "outputs": [
    {
     "data": {
      "text/plain": [
       "{'svc__C': 100, 'svc__gamma': 0.001, 'svc__kernel': 'rbf'}"
      ]
     },
     "execution_count": 56,
     "metadata": {},
     "output_type": "execute_result"
    }
   ],
   "source": [
    "grid_search_svc.best_params_"
   ]
  },
  {
   "cell_type": "code",
   "execution_count": 57,
   "metadata": {},
   "outputs": [
    {
     "data": {
      "text/plain": [
       "0.8226600985221675"
      ]
     },
     "execution_count": 57,
     "metadata": {},
     "output_type": "execute_result"
    }
   ],
   "source": [
    "grid_search_svc.best_score_"
   ]
  },
  {
   "cell_type": "code",
   "execution_count": 59,
   "metadata": {},
   "outputs": [
    {
     "name": "stdout",
     "output_type": "stream",
     "text": [
      "[0.55665025 0.75369458 0.55665025 0.55665025 0.55665025 0.61083744\n",
      " 0.80295567 0.78325123 0.55665025 0.55665025 0.63054187 0.71921182\n",
      " 0.81280788 0.79310345 0.55665025 0.63054187 0.71428571 0.80295567\n",
      " 0.8226601  0.79310345 0.63054187 0.71428571 0.74384236 0.80788177\n",
      " 0.8226601 ]\n"
     ]
    }
   ],
   "source": [
    "svc_grid_scores = grid_search_svc.cv_results_['mean_test_score']\n",
    "print(svc_grid_scores)"
   ]
  },
  {
   "cell_type": "code",
   "execution_count": 61,
   "metadata": {},
   "outputs": [],
   "source": [
    "svc_predictions = grid_search_svc.predict(X_test)"
   ]
  },
  {
   "cell_type": "code",
   "execution_count": 62,
   "metadata": {},
   "outputs": [
    {
     "name": "stdout",
     "output_type": "stream",
     "text": [
      "              precision    recall  f1-score   support\n",
      "\n",
      "           0       0.85      0.85      0.85        52\n",
      "           1       0.83      0.83      0.83        48\n",
      "\n",
      "    accuracy                           0.84       100\n",
      "   macro avg       0.84      0.84      0.84       100\n",
      "weighted avg       0.84      0.84      0.84       100\n",
      "\n",
      "[[44  8]\n",
      " [ 8 40]]\n"
     ]
    }
   ],
   "source": [
    "print(classification_report(y_test, svc_predictions))\n",
    "print(confusion_matrix(y_test, svc_predictions))"
   ]
  },
  {
   "cell_type": "code",
   "execution_count": null,
   "metadata": {},
   "outputs": [],
   "source": []
  },
  {
   "cell_type": "markdown",
   "metadata": {},
   "source": [
    "## now try neural network"
   ]
  },
  {
   "cell_type": "code",
   "execution_count": 63,
   "metadata": {},
   "outputs": [],
   "source": [
    "import tensorflow as tf\n",
    "from tensorflow.keras.models import Sequential\n",
    "from tensorflow.keras.layers import Dense, Activation, Dropout\n",
    "from tensorflow.keras.callbacks import EarlyStopping"
   ]
  },
  {
   "cell_type": "code",
   "execution_count": 176,
   "metadata": {},
   "outputs": [
    {
     "name": "stdout",
     "output_type": "stream",
     "text": [
      "(303, 23)\n"
     ]
    }
   ],
   "source": [
    "print(final_df.shape)\n",
    "\n",
    "NN_model = Sequential()\n",
    "NN_model.add(Dense(23, activation='relu'))\n",
    "NN_model.add(Dropout(0.5))\n",
    "NN_model.add(Dense(12, activation='relu'))\n",
    "NN_model.add(Dropout(0.5))\n",
    "NN_model.add(Dense(1, activation='sigmoid'))\n",
    "\n",
    "NN_model.compile(loss='binary_crossentropy', optimizer='adam')"
   ]
  },
  {
   "cell_type": "code",
   "execution_count": 177,
   "metadata": {},
   "outputs": [],
   "source": [
    "from sklearn.preprocessing import MinMaxScaler"
   ]
  },
  {
   "cell_type": "code",
   "execution_count": 178,
   "metadata": {},
   "outputs": [],
   "source": [
    "col_transformer_NN = ColumnTransformer([\n",
    "    ('minmaxscaler', MinMaxScaler(), ['age', 'trestbps', 'chol', 'thalach', 'oldpeak'])\n",
    "    ], remainder='passthrough')"
   ]
  },
  {
   "cell_type": "code",
   "execution_count": 179,
   "metadata": {},
   "outputs": [],
   "source": [
    "col_transformer_NN.fit(X_train)\n",
    "X_train_scaled_NN = col_transformer_NN.transform(X_train)\n",
    "X_test_scaled_NN  = col_transformer_NN.transform(X_test)"
   ]
  },
  {
   "cell_type": "code",
   "execution_count": 180,
   "metadata": {},
   "outputs": [],
   "source": [
    "early_stop = EarlyStopping(monitor='val_loss', mode='min', verbose=1, patience=25)"
   ]
  },
  {
   "cell_type": "code",
   "execution_count": 181,
   "metadata": {},
   "outputs": [
    {
     "name": "stdout",
     "output_type": "stream",
     "text": [
      "Epoch 1/600\n",
      "7/7 [==============================] - 0s 13ms/step - loss: 0.7817 - val_loss: 0.6750\n",
      "Epoch 2/600\n",
      "7/7 [==============================] - 0s 5ms/step - loss: 0.7659 - val_loss: 0.6610\n",
      "Epoch 3/600\n",
      "7/7 [==============================] - 0s 5ms/step - loss: 0.7429 - val_loss: 0.6511\n",
      "Epoch 4/600\n",
      "7/7 [==============================] - 0s 6ms/step - loss: 0.7009 - val_loss: 0.6419\n",
      "Epoch 5/600\n",
      "7/7 [==============================] - 0s 5ms/step - loss: 0.6737 - val_loss: 0.6321\n",
      "Epoch 6/600\n",
      "7/7 [==============================] - 0s 5ms/step - loss: 0.6836 - val_loss: 0.6233\n",
      "Epoch 7/600\n",
      "7/7 [==============================] - 0s 6ms/step - loss: 0.6923 - val_loss: 0.6152\n",
      "Epoch 8/600\n",
      "7/7 [==============================] - 0s 7ms/step - loss: 0.6751 - val_loss: 0.6077\n",
      "Epoch 9/600\n",
      "7/7 [==============================] - 0s 5ms/step - loss: 0.6493 - val_loss: 0.6001\n",
      "Epoch 10/600\n",
      "7/7 [==============================] - 0s 5ms/step - loss: 0.6588 - val_loss: 0.5927\n",
      "Epoch 11/600\n",
      "7/7 [==============================] - 0s 5ms/step - loss: 0.6255 - val_loss: 0.5852\n",
      "Epoch 12/600\n",
      "7/7 [==============================] - 0s 5ms/step - loss: 0.6302 - val_loss: 0.5782\n",
      "Epoch 13/600\n",
      "7/7 [==============================] - 0s 5ms/step - loss: 0.6244 - val_loss: 0.5721\n",
      "Epoch 14/600\n",
      "7/7 [==============================] - 0s 5ms/step - loss: 0.6203 - val_loss: 0.5665\n",
      "Epoch 15/600\n",
      "7/7 [==============================] - 0s 5ms/step - loss: 0.6266 - val_loss: 0.5601\n",
      "Epoch 16/600\n",
      "7/7 [==============================] - 0s 6ms/step - loss: 0.5968 - val_loss: 0.5537\n",
      "Epoch 17/600\n",
      "7/7 [==============================] - 0s 6ms/step - loss: 0.5990 - val_loss: 0.5456\n",
      "Epoch 18/600\n",
      "7/7 [==============================] - 0s 7ms/step - loss: 0.6272 - val_loss: 0.5376\n",
      "Epoch 19/600\n",
      "7/7 [==============================] - 0s 5ms/step - loss: 0.5950 - val_loss: 0.5313\n",
      "Epoch 20/600\n",
      "7/7 [==============================] - 0s 6ms/step - loss: 0.5763 - val_loss: 0.5244\n",
      "Epoch 21/600\n",
      "7/7 [==============================] - 0s 5ms/step - loss: 0.5948 - val_loss: 0.5181\n",
      "Epoch 22/600\n",
      "7/7 [==============================] - 0s 7ms/step - loss: 0.6060 - val_loss: 0.5136\n",
      "Epoch 23/600\n",
      "7/7 [==============================] - 0s 7ms/step - loss: 0.5815 - val_loss: 0.5086\n",
      "Epoch 24/600\n",
      "7/7 [==============================] - 0s 6ms/step - loss: 0.5954 - val_loss: 0.5021\n",
      "Epoch 25/600\n",
      "7/7 [==============================] - 0s 6ms/step - loss: 0.5780 - val_loss: 0.4967\n",
      "Epoch 26/600\n",
      "7/7 [==============================] - 0s 5ms/step - loss: 0.5652 - val_loss: 0.4932\n",
      "Epoch 27/600\n",
      "7/7 [==============================] - 0s 6ms/step - loss: 0.5723 - val_loss: 0.4885\n",
      "Epoch 28/600\n",
      "7/7 [==============================] - 0s 5ms/step - loss: 0.5488 - val_loss: 0.4840\n",
      "Epoch 29/600\n",
      "7/7 [==============================] - 0s 5ms/step - loss: 0.5317 - val_loss: 0.4780\n",
      "Epoch 30/600\n",
      "7/7 [==============================] - 0s 5ms/step - loss: 0.5623 - val_loss: 0.4731\n",
      "Epoch 31/600\n",
      "7/7 [==============================] - 0s 6ms/step - loss: 0.5789 - val_loss: 0.4694\n",
      "Epoch 32/600\n",
      "7/7 [==============================] - 0s 6ms/step - loss: 0.5214 - val_loss: 0.4677\n",
      "Epoch 33/600\n",
      "7/7 [==============================] - 0s 6ms/step - loss: 0.5740 - val_loss: 0.4649\n",
      "Epoch 34/600\n",
      "7/7 [==============================] - 0s 5ms/step - loss: 0.4888 - val_loss: 0.4600\n",
      "Epoch 35/600\n",
      "7/7 [==============================] - 0s 5ms/step - loss: 0.5377 - val_loss: 0.4517\n",
      "Epoch 36/600\n",
      "7/7 [==============================] - 0s 6ms/step - loss: 0.5283 - val_loss: 0.4432\n",
      "Epoch 37/600\n",
      "7/7 [==============================] - 0s 7ms/step - loss: 0.5496 - val_loss: 0.4379\n",
      "Epoch 38/600\n",
      "7/7 [==============================] - 0s 7ms/step - loss: 0.5067 - val_loss: 0.4346\n",
      "Epoch 39/600\n",
      "7/7 [==============================] - 0s 6ms/step - loss: 0.5212 - val_loss: 0.4299\n",
      "Epoch 40/600\n",
      "7/7 [==============================] - 0s 6ms/step - loss: 0.5481 - val_loss: 0.4259\n",
      "Epoch 41/600\n",
      "7/7 [==============================] - 0s 5ms/step - loss: 0.5036 - val_loss: 0.4222\n",
      "Epoch 42/600\n",
      "7/7 [==============================] - 0s 6ms/step - loss: 0.5199 - val_loss: 0.4207\n",
      "Epoch 43/600\n",
      "7/7 [==============================] - 0s 6ms/step - loss: 0.5133 - val_loss: 0.4195\n",
      "Epoch 44/600\n",
      "7/7 [==============================] - 0s 6ms/step - loss: 0.4947 - val_loss: 0.4168\n",
      "Epoch 45/600\n",
      "7/7 [==============================] - 0s 6ms/step - loss: 0.5312 - val_loss: 0.4148\n",
      "Epoch 46/600\n",
      "7/7 [==============================] - 0s 6ms/step - loss: 0.4713 - val_loss: 0.4126\n",
      "Epoch 47/600\n",
      "7/7 [==============================] - 0s 8ms/step - loss: 0.4795 - val_loss: 0.4091\n",
      "Epoch 48/600\n",
      "7/7 [==============================] - 0s 8ms/step - loss: 0.4970 - val_loss: 0.4052\n",
      "Epoch 49/600\n",
      "7/7 [==============================] - 0s 8ms/step - loss: 0.5037 - val_loss: 0.4022\n",
      "Epoch 50/600\n",
      "7/7 [==============================] - 0s 6ms/step - loss: 0.4848 - val_loss: 0.3997\n",
      "Epoch 51/600\n",
      "7/7 [==============================] - 0s 6ms/step - loss: 0.4992 - val_loss: 0.3974\n",
      "Epoch 52/600\n",
      "7/7 [==============================] - 0s 7ms/step - loss: 0.4669 - val_loss: 0.3937\n",
      "Epoch 53/600\n",
      "7/7 [==============================] - 0s 6ms/step - loss: 0.4388 - val_loss: 0.3884\n",
      "Epoch 54/600\n",
      "7/7 [==============================] - 0s 6ms/step - loss: 0.4944 - val_loss: 0.3833\n",
      "Epoch 55/600\n",
      "7/7 [==============================] - 0s 6ms/step - loss: 0.4367 - val_loss: 0.3790\n",
      "Epoch 56/600\n",
      "7/7 [==============================] - 0s 5ms/step - loss: 0.4642 - val_loss: 0.3762\n",
      "Epoch 57/600\n",
      "7/7 [==============================] - 0s 5ms/step - loss: 0.4410 - val_loss: 0.3734\n",
      "Epoch 58/600\n",
      "7/7 [==============================] - 0s 5ms/step - loss: 0.4930 - val_loss: 0.3716\n",
      "Epoch 59/600\n",
      "7/7 [==============================] - 0s 5ms/step - loss: 0.4494 - val_loss: 0.3704\n",
      "Epoch 60/600\n",
      "7/7 [==============================] - 0s 5ms/step - loss: 0.4590 - val_loss: 0.3685\n",
      "Epoch 61/600\n",
      "7/7 [==============================] - 0s 5ms/step - loss: 0.4337 - val_loss: 0.3662\n",
      "Epoch 62/600\n",
      "7/7 [==============================] - 0s 5ms/step - loss: 0.4658 - val_loss: 0.3645\n",
      "Epoch 63/600\n",
      "7/7 [==============================] - 0s 5ms/step - loss: 0.4539 - val_loss: 0.3623\n",
      "Epoch 64/600\n",
      "7/7 [==============================] - 0s 5ms/step - loss: 0.4727 - val_loss: 0.3620\n",
      "Epoch 65/600\n",
      "7/7 [==============================] - 0s 5ms/step - loss: 0.4635 - val_loss: 0.3614\n",
      "Epoch 66/600\n",
      "7/7 [==============================] - 0s 5ms/step - loss: 0.4494 - val_loss: 0.3609\n",
      "Epoch 67/600\n",
      "7/7 [==============================] - 0s 5ms/step - loss: 0.4266 - val_loss: 0.3594\n",
      "Epoch 68/600\n",
      "7/7 [==============================] - 0s 5ms/step - loss: 0.4455 - val_loss: 0.3579\n",
      "Epoch 69/600\n",
      "7/7 [==============================] - 0s 5ms/step - loss: 0.4648 - val_loss: 0.3570\n",
      "Epoch 70/600\n",
      "7/7 [==============================] - 0s 5ms/step - loss: 0.4513 - val_loss: 0.3557\n",
      "Epoch 71/600\n",
      "7/7 [==============================] - 0s 5ms/step - loss: 0.4205 - val_loss: 0.3541\n",
      "Epoch 72/600\n",
      "7/7 [==============================] - 0s 5ms/step - loss: 0.4056 - val_loss: 0.3519\n",
      "Epoch 73/600\n",
      "7/7 [==============================] - 0s 5ms/step - loss: 0.4738 - val_loss: 0.3516\n",
      "Epoch 74/600\n",
      "7/7 [==============================] - 0s 6ms/step - loss: 0.4350 - val_loss: 0.3518\n",
      "Epoch 75/600\n",
      "7/7 [==============================] - 0s 5ms/step - loss: 0.4160 - val_loss: 0.3511\n",
      "Epoch 76/600\n",
      "7/7 [==============================] - 0s 5ms/step - loss: 0.4709 - val_loss: 0.3520\n",
      "Epoch 77/600\n",
      "7/7 [==============================] - 0s 5ms/step - loss: 0.4400 - val_loss: 0.3523\n",
      "Epoch 78/600\n",
      "7/7 [==============================] - 0s 5ms/step - loss: 0.4674 - val_loss: 0.3537\n",
      "Epoch 79/600\n",
      "7/7 [==============================] - 0s 5ms/step - loss: 0.4520 - val_loss: 0.3554\n",
      "Epoch 80/600\n",
      "7/7 [==============================] - 0s 5ms/step - loss: 0.4080 - val_loss: 0.3548\n",
      "Epoch 81/600\n",
      "7/7 [==============================] - 0s 5ms/step - loss: 0.4247 - val_loss: 0.3542\n",
      "Epoch 82/600\n",
      "7/7 [==============================] - 0s 5ms/step - loss: 0.4210 - val_loss: 0.3522\n",
      "Epoch 83/600\n",
      "7/7 [==============================] - 0s 5ms/step - loss: 0.4159 - val_loss: 0.3505\n",
      "Epoch 84/600\n"
     ]
    },
    {
     "name": "stdout",
     "output_type": "stream",
     "text": [
      "7/7 [==============================] - 0s 5ms/step - loss: 0.4083 - val_loss: 0.3489\n",
      "Epoch 85/600\n",
      "7/7 [==============================] - 0s 5ms/step - loss: 0.4400 - val_loss: 0.3495\n",
      "Epoch 86/600\n",
      "7/7 [==============================] - 0s 5ms/step - loss: 0.4200 - val_loss: 0.3493\n",
      "Epoch 87/600\n",
      "7/7 [==============================] - 0s 5ms/step - loss: 0.4395 - val_loss: 0.3487\n",
      "Epoch 88/600\n",
      "7/7 [==============================] - 0s 5ms/step - loss: 0.4534 - val_loss: 0.3493\n",
      "Epoch 89/600\n",
      "7/7 [==============================] - 0s 5ms/step - loss: 0.4182 - val_loss: 0.3501\n",
      "Epoch 90/600\n",
      "7/7 [==============================] - 0s 5ms/step - loss: 0.4285 - val_loss: 0.3511\n",
      "Epoch 91/600\n",
      "7/7 [==============================] - 0s 5ms/step - loss: 0.3849 - val_loss: 0.3496\n",
      "Epoch 92/600\n",
      "7/7 [==============================] - 0s 6ms/step - loss: 0.4324 - val_loss: 0.3483\n",
      "Epoch 93/600\n",
      "7/7 [==============================] - 0s 6ms/step - loss: 0.3890 - val_loss: 0.3493\n",
      "Epoch 94/600\n",
      "7/7 [==============================] - 0s 5ms/step - loss: 0.3919 - val_loss: 0.3478\n",
      "Epoch 95/600\n",
      "7/7 [==============================] - 0s 5ms/step - loss: 0.4266 - val_loss: 0.3473\n",
      "Epoch 96/600\n",
      "7/7 [==============================] - 0s 5ms/step - loss: 0.3857 - val_loss: 0.3467\n",
      "Epoch 97/600\n",
      "7/7 [==============================] - 0s 5ms/step - loss: 0.3987 - val_loss: 0.3460\n",
      "Epoch 98/600\n",
      "7/7 [==============================] - 0s 5ms/step - loss: 0.4205 - val_loss: 0.3463\n",
      "Epoch 99/600\n",
      "7/7 [==============================] - 0s 5ms/step - loss: 0.4214 - val_loss: 0.3458\n",
      "Epoch 100/600\n",
      "7/7 [==============================] - 0s 5ms/step - loss: 0.4029 - val_loss: 0.3456\n",
      "Epoch 101/600\n",
      "7/7 [==============================] - 0s 5ms/step - loss: 0.3852 - val_loss: 0.3440\n",
      "Epoch 102/600\n",
      "7/7 [==============================] - 0s 5ms/step - loss: 0.4236 - val_loss: 0.3443\n",
      "Epoch 103/600\n",
      "7/7 [==============================] - 0s 6ms/step - loss: 0.4360 - val_loss: 0.3429\n",
      "Epoch 104/600\n",
      "7/7 [==============================] - 0s 5ms/step - loss: 0.4462 - val_loss: 0.3421\n",
      "Epoch 105/600\n",
      "7/7 [==============================] - 0s 5ms/step - loss: 0.3887 - val_loss: 0.3433\n",
      "Epoch 106/600\n",
      "7/7 [==============================] - 0s 5ms/step - loss: 0.4053 - val_loss: 0.3448\n",
      "Epoch 107/600\n",
      "7/7 [==============================] - 0s 5ms/step - loss: 0.4154 - val_loss: 0.3466\n",
      "Epoch 108/600\n",
      "7/7 [==============================] - 0s 5ms/step - loss: 0.4208 - val_loss: 0.3476\n",
      "Epoch 109/600\n",
      "7/7 [==============================] - 0s 5ms/step - loss: 0.4124 - val_loss: 0.3472\n",
      "Epoch 110/600\n",
      "7/7 [==============================] - 0s 5ms/step - loss: 0.3829 - val_loss: 0.3450\n",
      "Epoch 111/600\n",
      "7/7 [==============================] - 0s 5ms/step - loss: 0.3937 - val_loss: 0.3433\n",
      "Epoch 112/600\n",
      "7/7 [==============================] - 0s 5ms/step - loss: 0.3911 - val_loss: 0.3406\n",
      "Epoch 113/600\n",
      "7/7 [==============================] - 0s 5ms/step - loss: 0.3834 - val_loss: 0.3396\n",
      "Epoch 114/600\n",
      "7/7 [==============================] - 0s 5ms/step - loss: 0.3567 - val_loss: 0.3384\n",
      "Epoch 115/600\n",
      "7/7 [==============================] - 0s 5ms/step - loss: 0.3630 - val_loss: 0.3372\n",
      "Epoch 116/600\n",
      "7/7 [==============================] - 0s 5ms/step - loss: 0.3455 - val_loss: 0.3364\n",
      "Epoch 117/600\n",
      "7/7 [==============================] - 0s 5ms/step - loss: 0.3544 - val_loss: 0.3357\n",
      "Epoch 118/600\n",
      "7/7 [==============================] - 0s 5ms/step - loss: 0.3753 - val_loss: 0.3357\n",
      "Epoch 119/600\n",
      "7/7 [==============================] - 0s 5ms/step - loss: 0.3671 - val_loss: 0.3354\n",
      "Epoch 120/600\n",
      "7/7 [==============================] - 0s 5ms/step - loss: 0.3919 - val_loss: 0.3354\n",
      "Epoch 121/600\n",
      "7/7 [==============================] - 0s 5ms/step - loss: 0.4047 - val_loss: 0.3355\n",
      "Epoch 122/600\n",
      "7/7 [==============================] - 0s 6ms/step - loss: 0.3480 - val_loss: 0.3351\n",
      "Epoch 123/600\n",
      "7/7 [==============================] - 0s 5ms/step - loss: 0.3261 - val_loss: 0.3344\n",
      "Epoch 124/600\n",
      "7/7 [==============================] - 0s 5ms/step - loss: 0.4125 - val_loss: 0.3343\n",
      "Epoch 125/600\n",
      "7/7 [==============================] - 0s 5ms/step - loss: 0.3681 - val_loss: 0.3350\n",
      "Epoch 126/600\n",
      "7/7 [==============================] - 0s 5ms/step - loss: 0.3706 - val_loss: 0.3358\n",
      "Epoch 127/600\n",
      "7/7 [==============================] - 0s 5ms/step - loss: 0.3349 - val_loss: 0.3354\n",
      "Epoch 128/600\n",
      "7/7 [==============================] - 0s 5ms/step - loss: 0.3750 - val_loss: 0.3355\n",
      "Epoch 129/600\n",
      "7/7 [==============================] - 0s 5ms/step - loss: 0.3417 - val_loss: 0.3361\n",
      "Epoch 130/600\n",
      "7/7 [==============================] - 0s 5ms/step - loss: 0.3602 - val_loss: 0.3367\n",
      "Epoch 131/600\n",
      "7/7 [==============================] - 0s 5ms/step - loss: 0.3733 - val_loss: 0.3368\n",
      "Epoch 132/600\n",
      "7/7 [==============================] - 0s 5ms/step - loss: 0.3735 - val_loss: 0.3363\n",
      "Epoch 133/600\n",
      "7/7 [==============================] - 0s 5ms/step - loss: 0.3803 - val_loss: 0.3343\n",
      "Epoch 134/600\n",
      "7/7 [==============================] - 0s 5ms/step - loss: 0.3402 - val_loss: 0.3337\n",
      "Epoch 135/600\n",
      "7/7 [==============================] - 0s 5ms/step - loss: 0.3140 - val_loss: 0.3342\n",
      "Epoch 136/600\n",
      "7/7 [==============================] - 0s 5ms/step - loss: 0.3706 - val_loss: 0.3348\n",
      "Epoch 137/600\n",
      "7/7 [==============================] - 0s 5ms/step - loss: 0.3251 - val_loss: 0.3356\n",
      "Epoch 138/600\n",
      "7/7 [==============================] - 0s 5ms/step - loss: 0.3463 - val_loss: 0.3361\n",
      "Epoch 139/600\n",
      "7/7 [==============================] - 0s 5ms/step - loss: 0.3673 - val_loss: 0.3369\n",
      "Epoch 140/600\n",
      "7/7 [==============================] - 0s 5ms/step - loss: 0.3574 - val_loss: 0.3377\n",
      "Epoch 141/600\n",
      "7/7 [==============================] - 0s 5ms/step - loss: 0.3657 - val_loss: 0.3371\n",
      "Epoch 142/600\n",
      "7/7 [==============================] - 0s 5ms/step - loss: 0.3274 - val_loss: 0.3359\n",
      "Epoch 143/600\n",
      "7/7 [==============================] - 0s 5ms/step - loss: 0.3726 - val_loss: 0.3352\n",
      "Epoch 144/600\n",
      "7/7 [==============================] - 0s 5ms/step - loss: 0.3527 - val_loss: 0.3343\n",
      "Epoch 145/600\n",
      "7/7 [==============================] - 0s 5ms/step - loss: 0.3388 - val_loss: 0.3352\n",
      "Epoch 146/600\n",
      "7/7 [==============================] - 0s 5ms/step - loss: 0.3138 - val_loss: 0.3355\n",
      "Epoch 147/600\n",
      "7/7 [==============================] - 0s 5ms/step - loss: 0.3704 - val_loss: 0.3348\n",
      "Epoch 148/600\n",
      "7/7 [==============================] - 0s 5ms/step - loss: 0.3143 - val_loss: 0.3337\n",
      "Epoch 149/600\n",
      "7/7 [==============================] - 0s 5ms/step - loss: 0.3369 - val_loss: 0.3338\n",
      "Epoch 150/600\n",
      "7/7 [==============================] - 0s 5ms/step - loss: 0.3488 - val_loss: 0.3333\n",
      "Epoch 151/600\n",
      "7/7 [==============================] - 0s 5ms/step - loss: 0.3354 - val_loss: 0.3343\n",
      "Epoch 152/600\n",
      "7/7 [==============================] - 0s 5ms/step - loss: 0.3388 - val_loss: 0.3354\n",
      "Epoch 153/600\n",
      "7/7 [==============================] - 0s 5ms/step - loss: 0.3221 - val_loss: 0.3359\n",
      "Epoch 154/600\n",
      "7/7 [==============================] - 0s 5ms/step - loss: 0.3546 - val_loss: 0.3368\n",
      "Epoch 155/600\n",
      "7/7 [==============================] - 0s 5ms/step - loss: 0.3068 - val_loss: 0.3381\n",
      "Epoch 156/600\n",
      "7/7 [==============================] - 0s 5ms/step - loss: 0.2976 - val_loss: 0.3385\n",
      "Epoch 157/600\n",
      "7/7 [==============================] - 0s 5ms/step - loss: 0.3519 - val_loss: 0.3365\n",
      "Epoch 158/600\n",
      "7/7 [==============================] - 0s 5ms/step - loss: 0.3776 - val_loss: 0.3352\n",
      "Epoch 159/600\n",
      "7/7 [==============================] - 0s 5ms/step - loss: 0.3406 - val_loss: 0.3349\n",
      "Epoch 160/600\n",
      "7/7 [==============================] - 0s 6ms/step - loss: 0.3163 - val_loss: 0.3351\n",
      "Epoch 161/600\n",
      "7/7 [==============================] - 0s 5ms/step - loss: 0.3322 - val_loss: 0.3358\n",
      "Epoch 162/600\n",
      "7/7 [==============================] - 0s 5ms/step - loss: 0.3336 - val_loss: 0.3369\n",
      "Epoch 163/600\n",
      "7/7 [==============================] - 0s 5ms/step - loss: 0.3195 - val_loss: 0.3386\n",
      "Epoch 164/600\n",
      "7/7 [==============================] - 0s 5ms/step - loss: 0.3471 - val_loss: 0.3393\n",
      "Epoch 165/600\n",
      "7/7 [==============================] - 0s 5ms/step - loss: 0.3481 - val_loss: 0.3406\n",
      "Epoch 166/600\n",
      "7/7 [==============================] - 0s 5ms/step - loss: 0.3008 - val_loss: 0.3421\n",
      "Epoch 167/600\n"
     ]
    },
    {
     "name": "stdout",
     "output_type": "stream",
     "text": [
      "7/7 [==============================] - 0s 5ms/step - loss: 0.3351 - val_loss: 0.3443\n",
      "Epoch 168/600\n",
      "7/7 [==============================] - 0s 5ms/step - loss: 0.3329 - val_loss: 0.3431\n",
      "Epoch 169/600\n",
      "7/7 [==============================] - 0s 5ms/step - loss: 0.2814 - val_loss: 0.3412\n",
      "Epoch 170/600\n",
      "7/7 [==============================] - 0s 5ms/step - loss: 0.2953 - val_loss: 0.3407\n",
      "Epoch 171/600\n",
      "7/7 [==============================] - 0s 5ms/step - loss: 0.3054 - val_loss: 0.3408\n",
      "Epoch 172/600\n",
      "7/7 [==============================] - 0s 5ms/step - loss: 0.3354 - val_loss: 0.3407\n",
      "Epoch 173/600\n",
      "7/7 [==============================] - 0s 5ms/step - loss: 0.2927 - val_loss: 0.3421\n",
      "Epoch 174/600\n",
      "7/7 [==============================] - 0s 5ms/step - loss: 0.3234 - val_loss: 0.3421\n",
      "Epoch 175/600\n",
      "7/7 [==============================] - 0s 5ms/step - loss: 0.3102 - val_loss: 0.3418\n",
      "Epoch 00175: early stopping\n"
     ]
    },
    {
     "data": {
      "text/plain": [
       "<tensorflow.python.keras.callbacks.History at 0x7faddc0b0898>"
      ]
     },
     "execution_count": 181,
     "metadata": {},
     "output_type": "execute_result"
    }
   ],
   "source": [
    "NN_model.fit(x=X_train_scaled_NN, y=y_train.values, epochs=600,\n",
    "             validation_data=(X_test_scaled_NN, y_test),\n",
    "             callbacks=[early_stop]\n",
    "            )\n"
   ]
  },
  {
   "cell_type": "code",
   "execution_count": 182,
   "metadata": {},
   "outputs": [
    {
     "data": {
      "text/plain": [
       "[<matplotlib.lines.Line2D at 0x7fadc466dac8>,\n",
       " <matplotlib.lines.Line2D at 0x7fadc466da20>]"
      ]
     },
     "execution_count": 182,
     "metadata": {},
     "output_type": "execute_result"
    },
    {
     "data": {
      "image/png": "[encoded data removed]",
      "text/plain": [
       "<Figure size 432x288 with 1 Axes>"
      ]
     },
     "metadata": {},
     "output_type": "display_data"
    }
   ],
   "source": [
    "NN_model_loss = pd.DataFrame(NN_model.history.history)\n",
    "plt.plot(NN_model_loss)"
   ]
  },
  {
   "cell_type": "code",
   "execution_count": 183,
   "metadata": {},
   "outputs": [
    {
     "name": "stdout",
     "output_type": "stream",
     "text": [
      "[1 0 0 0 1 0 0 1 1 0 1 0 1 0 0 0 0 0 0 1 1 0 1 1 1 0 1 0 1 0 1 0 1 0 0 0 0\n",
      " 0 0 0 1 0 0 0 1 0 0 0 0 0 1 0 1 0 1 1 1 0 1 1 0 0 1 0 1 1 0 0 0 0 0 0 0 1\n",
      " 0 1 1 1 0 0 0 1 1 1 0 0 1 1 1 0 1 1 1 0 0 0 1 0 1 0]\n"
     ]
    }
   ],
   "source": [
    "NN_predictions = NN_model.predict_classes(X_test_scaled)\n",
    "print(NN_predictions.reshape(-1))"
   ]
  },
  {
   "cell_type": "code",
   "execution_count": 184,
   "metadata": {},
   "outputs": [
    {
     "name": "stdout",
     "output_type": "stream",
     "text": [
      "              precision    recall  f1-score   support\n",
      "\n",
      "           0       0.83      0.92      0.87        52\n",
      "           1       0.90      0.79      0.84        48\n",
      "\n",
      "    accuracy                           0.86       100\n",
      "   macro avg       0.87      0.86      0.86       100\n",
      "weighted avg       0.86      0.86      0.86       100\n",
      "\n",
      "[[48  4]\n",
      " [10 38]]\n"
     ]
    }
   ],
   "source": [
    "print(classification_report(y_test, NN_predictions.reshape(-1)))\n",
    "print(confusion_matrix(y_test, NN_predictions.reshape(-1)))"
   ]
  },
  {
   "cell_type": "code",
   "execution_count": null,
   "metadata": {},
   "outputs": [],
   "source": []
  }
 ],
 "metadata": {
  "kernelspec": {
   "display_name": "Python 3",
   "language": "python",
   "name": "python3"
  },
  "language_info": {
   "codemirror_mode": {
    "name": "ipython",
    "version": 3
   },
   "file_extension": ".py",
   "mimetype": "text/x-python",
   "name": "python",
   "nbconvert_exporter": "python",
   "pygments_lexer": "ipython3",
   "version": "3.7.3"
  }
 },
 "nbformat": 4,
 "nbformat_minor": 2
}
